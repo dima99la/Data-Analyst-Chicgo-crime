{
 "cells": [
  {
   "cell_type": "markdown",
   "id": "40c85a6d-458d-4673-b5b3-1647265fb253",
   "metadata": {
    "tags": []
   },
   "source": [
    "### we will start by patching our notebook to be optimized to run with intel-based CPUs \n",
    "### by doing that we can make our sklearn models run much faster, and as we are dealing with a large data set it is very important \n",
    "### it is a good way to prevent Kernel crushes by reducing ram usage "
   ]
  },
  {
   "cell_type": "code",
   "execution_count": 44,
   "id": "e356ce2a-c8a1-4ee7-b996-e8fe094210fa",
   "metadata": {},
   "outputs": [
    {
     "name": "stderr",
     "output_type": "stream",
     "text": [
      "Intel(R) Extension for Scikit-learn* enabled (https://github.com/intel/scikit-learn-intelex)\n"
     ]
    }
   ],
   "source": [
    "from sklearnex import patch_sklearn \n",
    "patch_sklearn()"
   ]
  },
  {
   "cell_type": "markdown",
   "id": "7a6e6a62-346b-4bf6-aaff-a3059f6bce53",
   "metadata": {},
   "source": [
    "### importing needed libaries "
   ]
  },
  {
   "cell_type": "code",
   "execution_count": 45,
   "id": "0d9cde8d-5cfb-464c-b1e6-85c230cde254",
   "metadata": {},
   "outputs": [],
   "source": [
    "import pandas as pd\n",
    "import numpy as np\n",
    "import matplotlib.pyplot as plt\n",
    "import seaborn as sns\n",
    "from datetime import datetime\n",
    "import time\n",
    "from sklearn.model_selection import train_test_split\n",
    "%matplotlib inline"
   ]
  },
  {
   "cell_type": "markdown",
   "id": "851a347e-8158-47e2-a583-f63e3b6bf2b8",
   "metadata": {},
   "source": [
    "### importing our data and cleaning the data \n",
    "### cleaning the data includes turning any categorical data into numerical data to use with regression models "
   ]
  },
  {
   "cell_type": "code",
   "execution_count": 46,
   "id": "5a260eb5-4407-4ed8-997a-66cbf9d597d0",
   "metadata": {},
   "outputs": [],
   "source": [
    "df = pd.read_csv('/Users/dimagoroh/Desktop/data_vis/big_file.csv', low_memory=False)"
   ]
  },
  {
   "cell_type": "code",
   "execution_count": 47,
   "id": "2f8169c3-e786-4400-b0f8-490f057a550c",
   "metadata": {},
   "outputs": [],
   "source": [
    "df=df.drop(['downloadSpeed', 'uploadSpeed'], axis=1)\n",
    "df = df.dropna()"
   ]
  },
  {
   "cell_type": "code",
   "execution_count": 48,
   "id": "03e437da-c2f3-42ce-abed-a59c82a23d65",
   "metadata": {},
   "outputs": [],
   "source": [
    "df[\"time\"] = df['date'].astype(str) + \" \" +df[\"hour\"]"
   ]
  },
  {
   "cell_type": "code",
   "execution_count": 49,
   "id": "5164f3a9-8f7c-4c4d-9ef8-e42e0f98b958",
   "metadata": {},
   "outputs": [],
   "source": [
    "df['time'] = pd.to_datetime(df[\"time\"])\n",
    "df['hour']=df['time'].dt.hour\n",
    "df['minute']=df['time'].dt.minute\n",
    "df['hour']=df['time'].dt.hour\n",
    "df['second']=df['time'].dt.second\n",
    "df['month']=df['time'].dt.month\n",
    "df['day']=df['time'].dt.day\n",
    "df['postal_code'] = df['postal_code'].astype(str)\n",
    "df['region_code'] = df['postal_code'].str[:1]\n",
    "\n",
    "\n",
    "conditions = [\n",
    "    (df['region_code'] == \"8\"),\n",
    "    (df['region_code'] == \"1\"),\n",
    "     (df['region_code'] == \"2\"),\n",
    "    (df['region_code'] == \"4\") \n",
    "]\n",
    "\n",
    "values = ['Barcelona','Girona','Lleida','Tarragona']\n",
    "\n",
    "df['region_code'] = np.select(conditions, values)\n"
   ]
  },
  {
   "cell_type": "code",
   "execution_count": 128,
   "id": "5379812e-6122-49e6-afad-470c7ba72451",
   "metadata": {},
   "outputs": [],
   "source": [
    "df=df[df['speed'] >0] \n",
    "### checking our data correlation \n",
    "\n",
    "cols = ['speed'] \n",
    "Q1 = df[cols].quantile(0.25)\n",
    "Q3 = df[cols].quantile(0.75)\n",
    "IQR = Q3 - Q1\n",
    "df = df[~((df[cols] < (Q1 - 1.5 * IQR)) |(df[cols] > (Q3 + 1.5 * IQR))).any(axis=1)]"
   ]
  },
  {
   "cell_type": "code",
   "execution_count": 129,
   "id": "1c5d9c40-d353-4a81-a1df-1f6f1fa29bc8",
   "metadata": {},
   "outputs": [
    {
     "name": "stdout",
     "output_type": "stream",
     "text": [
      "<class 'pandas.core.frame.DataFrame'>\n",
      "Int64Index: 8779106 entries, 0 to 11744913\n",
      "Data columns (total 25 columns):\n",
      " #   Column         Dtype         \n",
      "---  ------         -----         \n",
      " 0   date           object        \n",
      " 1   hour           int64         \n",
      " 2   lat            float64       \n",
      " 3   long           float64       \n",
      " 4   signal         int64         \n",
      " 5   network        object        \n",
      " 6   operator       object        \n",
      " 7   status         int64         \n",
      " 8   description    object        \n",
      " 9   net            object        \n",
      " 10  speed          float64       \n",
      " 11  satellites     float64       \n",
      " 12  precission     float64       \n",
      " 13  provider       object        \n",
      " 14  activity       object        \n",
      " 15  postal_code    object        \n",
      " 16  town_name      object        \n",
      " 17  position_geom  object        \n",
      " 18  row_num        int64         \n",
      " 19  time           datetime64[ns]\n",
      " 20  minute         int64         \n",
      " 21  second         int64         \n",
      " 22  month          int64         \n",
      " 23  day            int64         \n",
      " 24  region_code    object        \n",
      "dtypes: datetime64[ns](1), float64(5), int64(8), object(11)\n",
      "memory usage: 1.7+ GB\n"
     ]
    }
   ],
   "source": [
    "df.info()"
   ]
  },
  {
   "cell_type": "code",
   "execution_count": 130,
   "id": "9f6bbdcc-d70b-493a-ad38-ad3ae9311ea5",
   "metadata": {},
   "outputs": [
    {
     "data": {
      "image/png": "[encoded data removed]",
      "text/plain": [
       "<Figure size 432x288 with 2 Axes>"
      ]
     },
     "metadata": {
      "needs_background": "light"
     },
     "output_type": "display_data"
    }
   ],
   "source": [
    "sns.heatmap(df.corr());"
   ]
  },
  {
   "cell_type": "markdown",
   "id": "28e949ca-22f9-4ee2-9252-bae60cc84f61",
   "metadata": {},
   "source": [
    "### choosing a network to predict  "
   ]
  },
  {
   "cell_type": "code",
   "execution_count": 131,
   "id": "9785b256-958b-4bab-8292-5d470ca71bfc",
   "metadata": {
    "tags": []
   },
   "outputs": [],
   "source": [
    "\n",
    "df.groupby(['network'])['network'].count().sort_values(ascending=False).head(10)\n",
    "filtered_df = df[df['network'] == 'yoigo'] "
   ]
  },
  {
   "cell_type": "code",
   "execution_count": 132,
   "id": "1de6c2fd-03e1-47b4-bbf0-82af9051feea",
   "metadata": {},
   "outputs": [
    {
     "data": {
      "image/png": "[encoded data removed]",
      "text/plain": [
       "<Figure size 432x288 with 2 Axes>"
      ]
     },
     "metadata": {
      "needs_background": "light"
     },
     "output_type": "display_data"
    }
   ],
   "source": [
    "sns.heatmap(filtered_df.corr());\n"
   ]
  },
  {
   "cell_type": "code",
   "execution_count": 133,
   "id": "01d2862e-b3ff-401b-91c0-ce4659e34c15",
   "metadata": {
    "tags": []
   },
   "outputs": [
    {
     "name": "stderr",
     "output_type": "stream",
     "text": [
      "<ipython-input-133-6c15a3517b7b>:1: SettingWithCopyWarning: \n",
      "A value is trying to be set on a copy of a slice from a DataFrame.\n",
      "Try using .loc[row_indexer,col_indexer] = value instead\n",
      "\n",
      "See the caveats in the documentation: https://pandas.pydata.org/pandas-docs/stable/user_guide/indexing.html#returning-a-view-versus-a-copy\n",
      "  filtered_df[\"time\"] = pd.to_numeric(filtered_df[\"time\"], downcast=\"float\")\n"
     ]
    },
    {
     "name": "stdout",
     "output_type": "stream",
     "text": [
      "<class 'pandas.core.frame.DataFrame'>\n",
      "Int64Index: 295699 entries, 31 to 11744768\n",
      "Data columns (total 20 columns):\n",
      " #   Column       Non-Null Count   Dtype  \n",
      "---  ------       --------------   -----  \n",
      " 0   hour         295699 non-null  int64  \n",
      " 1   lat          295699 non-null  float64\n",
      " 2   long         295699 non-null  float64\n",
      " 3   signal       295699 non-null  int64  \n",
      " 4   network      295699 non-null  object \n",
      " 5   status       295699 non-null  int64  \n",
      " 6   net          295699 non-null  object \n",
      " 7   speed        295699 non-null  float64\n",
      " 8   satellites   295699 non-null  float64\n",
      " 9   precission   295699 non-null  float64\n",
      " 10  provider     295699 non-null  object \n",
      " 11  activity     295699 non-null  object \n",
      " 12  postal_code  295699 non-null  object \n",
      " 13  town_name    295699 non-null  object \n",
      " 14  time         295699 non-null  float32\n",
      " 15  minute       295699 non-null  int64  \n",
      " 16  second       295699 non-null  int64  \n",
      " 17  month        295699 non-null  int64  \n",
      " 18  day          295699 non-null  int64  \n",
      " 19  region_code  295699 non-null  object \n",
      "dtypes: float32(1), float64(5), int64(7), object(7)\n",
      "memory usage: 46.2+ MB\n"
     ]
    }
   ],
   "source": [
    "filtered_df[\"time\"] = pd.to_numeric(filtered_df[\"time\"], downcast=\"float\")\n",
    "filtered_df=filtered_df.drop(['date'], axis=1)\n",
    "filtered_df=filtered_df.drop(['row_num'], axis=1)\n",
    "#filtered_df=filtered_df.drop(['town_name'], axis=1)\n",
    "filtered_df=filtered_df.drop(['description','operator'], axis=1)\n",
    "filtered_df=filtered_df.drop(['position_geom'], axis=1)\n",
    "filtered_df.info()"
   ]
  },
  {
   "cell_type": "code",
   "execution_count": 134,
   "id": "8a8447c2-ebce-4138-a432-c5cab6dde700",
   "metadata": {},
   "outputs": [],
   "source": [
    "#filtered_df=filtered_df.drop(['second','minute','postal_code'], axis=1)\n",
    "filtered_df=filtered_df.drop(['second','minute'], axis=1)"
   ]
  },
  {
   "cell_type": "markdown",
   "id": "c733c43a-6387-4efe-8d03-149155ef4b35",
   "metadata": {},
   "source": [
    "### creating dummies for our categorical variables  "
   ]
  },
  {
   "cell_type": "code",
   "execution_count": 135,
   "id": "007999b6-b3a8-437e-ac89-4f0fad3ac7ca",
   "metadata": {},
   "outputs": [],
   "source": [
    "categorical = ['net','provider','activity','region_code','town_name']\n"
   ]
  },
  {
   "cell_type": "code",
   "execution_count": 136,
   "id": "4161c18c-a5f4-4df5-b379-d290dcbd8d79",
   "metadata": {
    "tags": []
   },
   "outputs": [],
   "source": [
    "df_dummies = pd.get_dummies(filtered_df, columns=categorical)"
   ]
  },
  {
   "cell_type": "code",
   "execution_count": 137,
   "id": "93c95928-2b7e-408b-b6f2-447858db1437",
   "metadata": {
    "tags": []
   },
   "outputs": [],
   "source": [
    "filtered_df=df_dummies"
   ]
  },
  {
   "cell_type": "code",
   "execution_count": 138,
   "id": "04bb3ad8-98dc-4238-9ed4-fbd68f58db2b",
   "metadata": {
    "tags": []
   },
   "outputs": [
    {
     "name": "stdout",
     "output_type": "stream",
     "text": [
      "<class 'pandas.core.frame.DataFrame'>\n",
      "Int64Index: 295699 entries, 31 to 11744768\n",
      "Columns: 721 entries, hour to town_name_Òdena\n",
      "dtypes: float32(1), float64(5), int64(5), object(2), uint8(708)\n",
      "memory usage: 230.1+ MB\n"
     ]
    }
   ],
   "source": [
    "filtered_df.info()"
   ]
  },
  {
   "cell_type": "code",
   "execution_count": 139,
   "id": "ef2d8637-1c39-4598-8c93-c70a22136156",
   "metadata": {},
   "outputs": [
    {
     "data": {
      "text/plain": [
       "(295699, 721)"
      ]
     },
     "execution_count": 139,
     "metadata": {},
     "output_type": "execute_result"
    }
   ],
   "source": [
    "filtered_df.shape"
   ]
  },
  {
   "cell_type": "markdown",
   "id": "285abc6f-ca92-45da-83e0-fd62346d3211",
   "metadata": {},
   "source": [
    "### preparing our data to test and train "
   ]
  },
  {
   "cell_type": "code",
   "execution_count": 196,
   "id": "5cd72ef9-7198-4fd6-98d9-6f5bcfd2dab5",
   "metadata": {},
   "outputs": [],
   "source": [
    "\n",
    "\n",
    "x= filtered_df.drop(['speed','network','time'],axis=1)\n",
    "y=filtered_df['speed']\n",
    "x_train,x_test,y_train,y_test= train_test_split(x,y,test_size=0.2,random_state=101)"
   ]
  },
  {
   "cell_type": "code",
   "execution_count": 197,
   "id": "44d1c779-a2b8-4464-a4dd-0e8159913496",
   "metadata": {},
   "outputs": [],
   "source": [
    "#y_train = df_train['speed']\n",
    "#y_test = df_test['speed']\n",
    "\n"
   ]
  },
  {
   "cell_type": "markdown",
   "id": "f9abfa43-dc79-4eb2-bd1c-b19545a1a61d",
   "metadata": {},
   "source": [
    "# <b>choosing the correct algoritem </b>\n",
    "## <b>Linear Regression is very easy and fast to implement but-\n",
    "### it Assumes linear relationship between dependent and independent variables, which is incorrect in most cases and especialy as we saw from the heat map at our data set \n",
    "### Sensitive to outliers\n",
    "### If the number of observations are less, it leads to over fitting, it starts considering noise.\n",
    "\n",
    "## <b>Ridge Regression-</b>\n",
    "### Trades variance for bias (i.e. in presence of co-linearity, it is worth to have biased results, in order to lower the variance.)\n",
    "### Prevents over fitting\n",
    "\n",
    "## <b>LASSO Regression-</b>\n",
    "### Selected features will be highly biased.\n",
    "### For n<<p (n-number of data points, p-number of features), LASSO selects at most n features.\n",
    "### LASSO will select only one feature from a group of correlated features, the selection is arbitrary in nature.\n",
    "### For different boot strapped data, the feature selected can be very different.\n",
    "### Prediction performance is worse than Ridge regression.\n",
    "\n",
    "## <b>Elastic Net Regression-</b>\n",
    "### Computationally more expensive than LASSO or Ridge.\n"
   ]
  },
  {
   "cell_type": "markdown",
   "id": "2dc0dccb-fa45-4435-a131-1f043a17d130",
   "metadata": {},
   "source": [
    "# Ridge  "
   ]
  },
  {
   "cell_type": "code",
   "execution_count": 198,
   "id": "259c93fc-cc9c-492d-9b6d-c780555ef65b",
   "metadata": {},
   "outputs": [
    {
     "data": {
      "text/plain": [
       "Ridge(alpha=0.01)"
      ]
     },
     "execution_count": 198,
     "metadata": {},
     "output_type": "execute_result"
    }
   ],
   "source": [
    "# make a prediction with a ridge regression model on the dataset\n",
    "from sklearn.linear_model import Ridge\n",
    "# define model\n",
    "model = Ridge(alpha=0.01)\n",
    "# fit model\n",
    "model.fit(x_train,y_train)\n"
   ]
  },
  {
   "cell_type": "code",
   "execution_count": 199,
   "id": "cab3a528-50c2-4f23-85d1-d0372a1b0885",
   "metadata": {},
   "outputs": [
    {
     "data": {
      "text/html": [
       "<div>\n",
       "<style scoped>\n",
       "    .dataframe tbody tr th:only-of-type {\n",
       "        vertical-align: middle;\n",
       "    }\n",
       "\n",
       "    .dataframe tbody tr th {\n",
       "        vertical-align: top;\n",
       "    }\n",
       "\n",
       "    .dataframe thead th {\n",
       "        text-align: right;\n",
       "    }\n",
       "</style>\n",
       "<table border=\"1\" class=\"dataframe\">\n",
       "  <thead>\n",
       "    <tr style=\"text-align: right;\">\n",
       "      <th></th>\n",
       "      <th>Coefficient</th>\n",
       "    </tr>\n",
       "  </thead>\n",
       "  <tbody>\n",
       "    <tr>\n",
       "      <th>hour</th>\n",
       "      <td>-0.051184</td>\n",
       "    </tr>\n",
       "    <tr>\n",
       "      <th>lat</th>\n",
       "      <td>-11.168131</td>\n",
       "    </tr>\n",
       "    <tr>\n",
       "      <th>long</th>\n",
       "      <td>4.618215</td>\n",
       "    </tr>\n",
       "    <tr>\n",
       "      <th>signal</th>\n",
       "      <td>0.031915</td>\n",
       "    </tr>\n",
       "    <tr>\n",
       "      <th>status</th>\n",
       "      <td>1.958059</td>\n",
       "    </tr>\n",
       "    <tr>\n",
       "      <th>satellites</th>\n",
       "      <td>0.455382</td>\n",
       "    </tr>\n",
       "    <tr>\n",
       "      <th>precission</th>\n",
       "      <td>-0.042568</td>\n",
       "    </tr>\n",
       "    <tr>\n",
       "      <th>postal_code</th>\n",
       "      <td>-0.000025</td>\n",
       "    </tr>\n",
       "    <tr>\n",
       "      <th>month</th>\n",
       "      <td>-0.085111</td>\n",
       "    </tr>\n",
       "    <tr>\n",
       "      <th>day</th>\n",
       "      <td>-0.019245</td>\n",
       "    </tr>\n",
       "    <tr>\n",
       "      <th>net_2G</th>\n",
       "      <td>1.517701</td>\n",
       "    </tr>\n",
       "    <tr>\n",
       "      <th>net_3G</th>\n",
       "      <td>-0.210479</td>\n",
       "    </tr>\n",
       "    <tr>\n",
       "      <th>net_4G</th>\n",
       "      <td>-1.307214</td>\n",
       "    </tr>\n",
       "    <tr>\n",
       "      <th>provider_fused</th>\n",
       "      <td>-3.704888</td>\n",
       "    </tr>\n",
       "    <tr>\n",
       "      <th>provider_gps</th>\n",
       "      <td>-2.942086</td>\n",
       "    </tr>\n",
       "    <tr>\n",
       "      <th>provider_network</th>\n",
       "      <td>6.646982</td>\n",
       "    </tr>\n",
       "    <tr>\n",
       "      <th>activity_IN_VEHICLE</th>\n",
       "      <td>20.097807</td>\n",
       "    </tr>\n",
       "    <tr>\n",
       "      <th>activity_ON_BICYCLE</th>\n",
       "      <td>1.434142</td>\n",
       "    </tr>\n",
       "    <tr>\n",
       "      <th>activity_ON_FOOT</th>\n",
       "      <td>-7.653780</td>\n",
       "    </tr>\n",
       "    <tr>\n",
       "      <th>activity_STILL</th>\n",
       "      <td>-4.851809</td>\n",
       "    </tr>\n",
       "    <tr>\n",
       "      <th>activity_TILTING</th>\n",
       "      <td>-3.333450</td>\n",
       "    </tr>\n",
       "    <tr>\n",
       "      <th>activity_UNKNOWN</th>\n",
       "      <td>-5.692901</td>\n",
       "    </tr>\n",
       "    <tr>\n",
       "      <th>region_code_Barcelona</th>\n",
       "      <td>-7.440287</td>\n",
       "    </tr>\n",
       "    <tr>\n",
       "      <th>region_code_Girona</th>\n",
       "      <td>-1.851939</td>\n",
       "    </tr>\n",
       "    <tr>\n",
       "      <th>region_code_Lleida</th>\n",
       "      <td>12.089143</td>\n",
       "    </tr>\n",
       "    <tr>\n",
       "      <th>region_code_Tarragona</th>\n",
       "      <td>-2.796909</td>\n",
       "    </tr>\n",
       "    <tr>\n",
       "      <th>town_name_Abrera</th>\n",
       "      <td>-0.045276</td>\n",
       "    </tr>\n",
       "    <tr>\n",
       "      <th>town_name_Agramunt</th>\n",
       "      <td>-24.927532</td>\n",
       "    </tr>\n",
       "    <tr>\n",
       "      <th>town_name_Aguilar de Segarra</th>\n",
       "      <td>48.578839</td>\n",
       "    </tr>\n",
       "    <tr>\n",
       "      <th>town_name_Agullana</th>\n",
       "      <td>11.840319</td>\n",
       "    </tr>\n",
       "    <tr>\n",
       "      <th>town_name_Aiguafreda</th>\n",
       "      <td>-16.481942</td>\n",
       "    </tr>\n",
       "    <tr>\n",
       "      <th>town_name_Aiguaviva</th>\n",
       "      <td>15.700173</td>\n",
       "    </tr>\n",
       "    <tr>\n",
       "      <th>town_name_Aitona</th>\n",
       "      <td>-29.280678</td>\n",
       "    </tr>\n",
       "    <tr>\n",
       "      <th>town_name_Albatàrrec</th>\n",
       "      <td>-29.662460</td>\n",
       "    </tr>\n",
       "    <tr>\n",
       "      <th>town_name_Albinyana</th>\n",
       "      <td>13.004121</td>\n",
       "    </tr>\n",
       "    <tr>\n",
       "      <th>town_name_Albons</th>\n",
       "      <td>-19.458886</td>\n",
       "    </tr>\n",
       "    <tr>\n",
       "      <th>town_name_Alcanar</th>\n",
       "      <td>13.062473</td>\n",
       "    </tr>\n",
       "    <tr>\n",
       "      <th>town_name_Alcarràs</th>\n",
       "      <td>-10.629187</td>\n",
       "    </tr>\n",
       "    <tr>\n",
       "      <th>town_name_Alcoletge</th>\n",
       "      <td>9.447156</td>\n",
       "    </tr>\n",
       "    <tr>\n",
       "      <th>town_name_Alcover</th>\n",
       "      <td>9.558811</td>\n",
       "    </tr>\n",
       "    <tr>\n",
       "      <th>town_name_Aldover</th>\n",
       "      <td>0.000000</td>\n",
       "    </tr>\n",
       "    <tr>\n",
       "      <th>town_name_Alella</th>\n",
       "      <td>-17.636284</td>\n",
       "    </tr>\n",
       "    <tr>\n",
       "      <th>town_name_Alfara de Carles</th>\n",
       "      <td>-17.355108</td>\n",
       "    </tr>\n",
       "    <tr>\n",
       "      <th>town_name_Alfarràs</th>\n",
       "      <td>-11.364978</td>\n",
       "    </tr>\n",
       "    <tr>\n",
       "      <th>town_name_Alforja</th>\n",
       "      <td>-0.171465</td>\n",
       "    </tr>\n",
       "    <tr>\n",
       "      <th>town_name_Alfés</th>\n",
       "      <td>-32.286599</td>\n",
       "    </tr>\n",
       "    <tr>\n",
       "      <th>town_name_Algerri</th>\n",
       "      <td>1.404687</td>\n",
       "    </tr>\n",
       "    <tr>\n",
       "      <th>town_name_Alió</th>\n",
       "      <td>-6.245794</td>\n",
       "    </tr>\n",
       "    <tr>\n",
       "      <th>town_name_Almacelles</th>\n",
       "      <td>2.714082</td>\n",
       "    </tr>\n",
       "    <tr>\n",
       "      <th>town_name_Almenar</th>\n",
       "      <td>-16.781923</td>\n",
       "    </tr>\n",
       "    <tr>\n",
       "      <th>town_name_Almoster</th>\n",
       "      <td>-25.170611</td>\n",
       "    </tr>\n",
       "    <tr>\n",
       "      <th>town_name_Alp</th>\n",
       "      <td>-4.605280</td>\n",
       "    </tr>\n",
       "    <tr>\n",
       "      <th>town_name_Alpens</th>\n",
       "      <td>-6.378295</td>\n",
       "    </tr>\n",
       "    <tr>\n",
       "      <th>town_name_Alpicat</th>\n",
       "      <td>-26.026528</td>\n",
       "    </tr>\n",
       "    <tr>\n",
       "      <th>town_name_Alt Àneu</th>\n",
       "      <td>-24.834688</td>\n",
       "    </tr>\n",
       "    <tr>\n",
       "      <th>town_name_Altafulla</th>\n",
       "      <td>3.700361</td>\n",
       "    </tr>\n",
       "    <tr>\n",
       "      <th>town_name_Alàs i Cerc</th>\n",
       "      <td>16.575836</td>\n",
       "    </tr>\n",
       "    <tr>\n",
       "      <th>town_name_Amer</th>\n",
       "      <td>-14.369555</td>\n",
       "    </tr>\n",
       "    <tr>\n",
       "      <th>town_name_Amposta</th>\n",
       "      <td>-0.161902</td>\n",
       "    </tr>\n",
       "    <tr>\n",
       "      <th>town_name_Anglesola</th>\n",
       "      <td>22.179257</td>\n",
       "    </tr>\n",
       "  </tbody>\n",
       "</table>\n",
       "</div>"
      ],
      "text/plain": [
       "                              Coefficient\n",
       "hour                            -0.051184\n",
       "lat                            -11.168131\n",
       "long                             4.618215\n",
       "signal                           0.031915\n",
       "status                           1.958059\n",
       "satellites                       0.455382\n",
       "precission                      -0.042568\n",
       "postal_code                     -0.000025\n",
       "month                           -0.085111\n",
       "day                             -0.019245\n",
       "net_2G                           1.517701\n",
       "net_3G                          -0.210479\n",
       "net_4G                          -1.307214\n",
       "provider_fused                  -3.704888\n",
       "provider_gps                    -2.942086\n",
       "provider_network                 6.646982\n",
       "activity_IN_VEHICLE             20.097807\n",
       "activity_ON_BICYCLE              1.434142\n",
       "activity_ON_FOOT                -7.653780\n",
       "activity_STILL                  -4.851809\n",
       "activity_TILTING                -3.333450\n",
       "activity_UNKNOWN                -5.692901\n",
       "region_code_Barcelona           -7.440287\n",
       "region_code_Girona              -1.851939\n",
       "region_code_Lleida              12.089143\n",
       "region_code_Tarragona           -2.796909\n",
       "town_name_Abrera                -0.045276\n",
       "town_name_Agramunt             -24.927532\n",
       "town_name_Aguilar de Segarra    48.578839\n",
       "town_name_Agullana              11.840319\n",
       "town_name_Aiguafreda           -16.481942\n",
       "town_name_Aiguaviva             15.700173\n",
       "town_name_Aitona               -29.280678\n",
       "town_name_Albatàrrec           -29.662460\n",
       "town_name_Albinyana             13.004121\n",
       "town_name_Albons               -19.458886\n",
       "town_name_Alcanar               13.062473\n",
       "town_name_Alcarràs             -10.629187\n",
       "town_name_Alcoletge              9.447156\n",
       "town_name_Alcover                9.558811\n",
       "town_name_Aldover                0.000000\n",
       "town_name_Alella               -17.636284\n",
       "town_name_Alfara de Carles     -17.355108\n",
       "town_name_Alfarràs             -11.364978\n",
       "town_name_Alforja               -0.171465\n",
       "town_name_Alfés                -32.286599\n",
       "town_name_Algerri                1.404687\n",
       "town_name_Alió                  -6.245794\n",
       "town_name_Almacelles             2.714082\n",
       "town_name_Almenar              -16.781923\n",
       "town_name_Almoster             -25.170611\n",
       "town_name_Alp                   -4.605280\n",
       "town_name_Alpens                -6.378295\n",
       "town_name_Alpicat              -26.026528\n",
       "town_name_Alt Àneu             -24.834688\n",
       "town_name_Altafulla              3.700361\n",
       "town_name_Alàs i Cerc           16.575836\n",
       "town_name_Amer                 -14.369555\n",
       "town_name_Amposta               -0.161902\n",
       "town_name_Anglesola             22.179257"
      ]
     },
     "execution_count": 199,
     "metadata": {},
     "output_type": "execute_result"
    }
   ],
   "source": [
    "coeff_df_Ridge = pd.DataFrame(model.coef_,x.columns,columns=['Coefficient']).head(60)\n",
    "coeff_df_Ridge"
   ]
  },
  {
   "cell_type": "code",
   "execution_count": 200,
   "id": "693fc85e-c020-4327-ae94-590f7617d755",
   "metadata": {},
   "outputs": [
    {
     "data": {
      "text/plain": [
       "<matplotlib.collections.PathCollection at 0x7f55213f7dc0>"
      ]
     },
     "execution_count": 200,
     "metadata": {},
     "output_type": "execute_result"
    },
    {
     "data": {
      "image/png": "[encoded data removed]",
      "text/plain": [
       "<Figure size 432x288 with 1 Axes>"
      ]
     },
     "metadata": {
      "needs_background": "light"
     },
     "output_type": "display_data"
    }
   ],
   "source": [
    "predictions = model.predict(x_test)\n",
    "plt.scatter(y_test,predictions)"
   ]
  },
  {
   "cell_type": "code",
   "execution_count": 201,
   "id": "dc200654-5402-4d5e-9460-9f103515350e",
   "metadata": {},
   "outputs": [
    {
     "data": {
      "image/png": "[encoded data removed]",
      "text/plain": [
       "<Figure size 360x360 with 1 Axes>"
      ]
     },
     "metadata": {
      "needs_background": "light"
     },
     "output_type": "display_data"
    }
   ],
   "source": [
    "sns.displot((y_test-predictions),bins=50);"
   ]
  },
  {
   "cell_type": "code",
   "execution_count": 202,
   "id": "95f45c0c-f5ef-48ff-b874-fe4577166227",
   "metadata": {},
   "outputs": [
    {
     "name": "stdout",
     "output_type": "stream",
     "text": [
      "MAE: 15.489863474413225\n",
      "MSE: 466.90982833959356\n",
      "RMSE: 21.60809636084571\n",
      "R^2: 0.5156559968711176\n"
     ]
    }
   ],
   "source": [
    "from sklearn import metrics\n",
    "print('MAE:', metrics.mean_absolute_error(y_test, predictions))\n",
    "print('MSE:', metrics.mean_squared_error(y_test, predictions))\n",
    "print('RMSE:',np.sqrt(metrics.mean_squared_error(y_test, predictions)))\n",
    "print('R^2:', metrics.explained_variance_score(y_test, predictions))"
   ]
  },
  {
   "cell_type": "markdown",
   "id": "17023b5d-3827-464a-a53c-ac6cd2c1a261",
   "metadata": {},
   "source": [
    "### picking the best alpha value"
   ]
  },
  {
   "cell_type": "code",
   "execution_count": 165,
   "id": "c9a28730-ccd9-49f5-900c-b3336ecc4ad7",
   "metadata": {
    "tags": []
   },
   "outputs": [
    {
     "name": "stdout",
     "output_type": "stream",
     "text": [
      "r2: 0.5178744548717844\n",
      "var_score:0.517879871110601\n",
      "r2: 0.517879156400541\n",
      "var_score:0.5178845675675633\n",
      "r2: 0.5178882107865838\n",
      "var_score:0.5178936117839806\n",
      "r2: 0.5178909005135466\n",
      "var_score:0.5178962976925547\n",
      "r2: 0.5178914936765975\n",
      "var_score:0.5178968885967417\n"
     ]
    }
   ],
   "source": [
    "from sklearn.metrics import r2_score\n",
    "\n",
    "def train_eval(alpha):\n",
    "    model=Ridge(alpha=alpha)\n",
    "    model.fit(x_train,y_train)\n",
    "    predictions = model.predict(x_test)\n",
    "    r2 = r2_score(y_test, predictions)\n",
    "    var_score = metrics.explained_variance_score(y_test, predictions)\n",
    "    return r2, var_score\n",
    "\n",
    "for alpha in [0.0001, 0.05, 0.2, 0.3, 0.4]:\n",
    "    r2, var_score = train_eval(alpha)\n",
    "    print(f'r2: {r2}')\n",
    "    print(f'var_score:{var_score}')"
   ]
  },
  {
   "cell_type": "markdown",
   "id": "a10c508d-5f9f-4b3f-9d6f-4ab5d6298c18",
   "metadata": {},
   "source": [
    "# Lasso"
   ]
  },
  {
   "cell_type": "code",
   "execution_count": 203,
   "id": "42fbfb0e-5365-496b-8be1-ab46ae0f046e",
   "metadata": {},
   "outputs": [
    {
     "data": {
      "text/plain": [
       "((236559,), (59140,))"
      ]
     },
     "execution_count": 203,
     "metadata": {},
     "output_type": "execute_result"
    }
   ],
   "source": [
    "y_train.shape, y_test.shape"
   ]
  },
  {
   "cell_type": "code",
   "execution_count": 204,
   "id": "39409ee6-1d23-4f5b-af48-33001ee6df96",
   "metadata": {},
   "outputs": [],
   "source": [
    "from sklearn.preprocessing import StandardScaler\n",
    "from sklearn.linear_model import Lasso"
   ]
  },
  {
   "cell_type": "code",
   "execution_count": 205,
   "id": "576f7bb4-9f5c-42ca-aa62-0a69457bf5bb",
   "metadata": {},
   "outputs": [
    {
     "name": "stdout",
     "output_type": "stream",
     "text": [
      "308.6576755378919\n"
     ]
    }
   ],
   "source": [
    "lasso=Lasso(alpha=0.001)\n",
    "lasso.fit(x_train,y_train)\n",
    "print(lasso.intercept_)"
   ]
  },
  {
   "cell_type": "code",
   "execution_count": 206,
   "id": "599198d1-5b19-487b-a6ec-478d0047d500",
   "metadata": {},
   "outputs": [
    {
     "data": {
      "text/html": [
       "<div>\n",
       "<style scoped>\n",
       "    .dataframe tbody tr th:only-of-type {\n",
       "        vertical-align: middle;\n",
       "    }\n",
       "\n",
       "    .dataframe tbody tr th {\n",
       "        vertical-align: top;\n",
       "    }\n",
       "\n",
       "    .dataframe thead th {\n",
       "        text-align: right;\n",
       "    }\n",
       "</style>\n",
       "<table border=\"1\" class=\"dataframe\">\n",
       "  <thead>\n",
       "    <tr style=\"text-align: right;\">\n",
       "      <th></th>\n",
       "      <th>Coefficient</th>\n",
       "    </tr>\n",
       "  </thead>\n",
       "  <tbody>\n",
       "    <tr>\n",
       "      <th>hour</th>\n",
       "      <td>-0.048106</td>\n",
       "    </tr>\n",
       "    <tr>\n",
       "      <th>lat</th>\n",
       "      <td>-6.992674</td>\n",
       "    </tr>\n",
       "    <tr>\n",
       "      <th>long</th>\n",
       "      <td>3.061840</td>\n",
       "    </tr>\n",
       "    <tr>\n",
       "      <th>signal</th>\n",
       "      <td>0.034378</td>\n",
       "    </tr>\n",
       "    <tr>\n",
       "      <th>status</th>\n",
       "      <td>2.028947</td>\n",
       "    </tr>\n",
       "    <tr>\n",
       "      <th>...</th>\n",
       "      <td>...</td>\n",
       "    </tr>\n",
       "    <tr>\n",
       "      <th>town_name_les Oluges</th>\n",
       "      <td>0.000000</td>\n",
       "    </tr>\n",
       "    <tr>\n",
       "      <th>town_name_les Planes d'Hostoles</th>\n",
       "      <td>0.000000</td>\n",
       "    </tr>\n",
       "    <tr>\n",
       "      <th>town_name_les Preses</th>\n",
       "      <td>-12.618162</td>\n",
       "    </tr>\n",
       "    <tr>\n",
       "      <th>town_name_les Valls de Valira</th>\n",
       "      <td>0.000000</td>\n",
       "    </tr>\n",
       "    <tr>\n",
       "      <th>town_name_Òdena</th>\n",
       "      <td>24.360277</td>\n",
       "    </tr>\n",
       "  </tbody>\n",
       "</table>\n",
       "<p>718 rows × 1 columns</p>\n",
       "</div>"
      ],
      "text/plain": [
       "                                 Coefficient\n",
       "hour                               -0.048106\n",
       "lat                                -6.992674\n",
       "long                                3.061840\n",
       "signal                              0.034378\n",
       "status                              2.028947\n",
       "...                                      ...\n",
       "town_name_les Oluges                0.000000\n",
       "town_name_les Planes d'Hostoles     0.000000\n",
       "town_name_les Preses              -12.618162\n",
       "town_name_les Valls de Valira       0.000000\n",
       "town_name_Òdena                    24.360277\n",
       "\n",
       "[718 rows x 1 columns]"
      ]
     },
     "execution_count": 206,
     "metadata": {},
     "output_type": "execute_result"
    }
   ],
   "source": [
    "coeff_df = pd.DataFrame(lasso.coef_,x.columns,columns=['Coefficient'])\n",
    "coeff_df"
   ]
  },
  {
   "cell_type": "code",
   "execution_count": 207,
   "id": "c842d2b9-137c-4d25-befc-85894aa0d13d",
   "metadata": {},
   "outputs": [
    {
     "data": {
      "text/plain": [
       "<matplotlib.collections.PathCollection at 0x7f5523febca0>"
      ]
     },
     "execution_count": 207,
     "metadata": {},
     "output_type": "execute_result"
    },
    {
     "data": {
      "image/png": "[encoded data removed]",
      "text/plain": [
       "<Figure size 432x288 with 1 Axes>"
      ]
     },
     "metadata": {
      "needs_background": "light"
     },
     "output_type": "display_data"
    }
   ],
   "source": [
    "predictions = lasso.predict(x_test)\n",
    "plt.scatter(y_test,predictions)"
   ]
  },
  {
   "cell_type": "code",
   "execution_count": 208,
   "id": "d706dbf2-e338-4dd5-a68f-5c6b536b9fd5",
   "metadata": {},
   "outputs": [
    {
     "data": {
      "image/png": "[encoded data removed]",
      "text/plain": [
       "<Figure size 360x360 with 1 Axes>"
      ]
     },
     "metadata": {
      "needs_background": "light"
     },
     "output_type": "display_data"
    }
   ],
   "source": [
    "sns.displot((y_test-predictions),bins=50);\n"
   ]
  },
  {
   "cell_type": "code",
   "execution_count": 209,
   "id": "367b8410-eaef-4c59-8e43-1154c8ef6f38",
   "metadata": {},
   "outputs": [
    {
     "name": "stdout",
     "output_type": "stream",
     "text": [
      "MAE: 15.649644263612483\n",
      "MSE: 470.1058443178264\n",
      "RMSE: 21.68192436841865\n",
      "R^2: 0.5123395129003689\n"
     ]
    }
   ],
   "source": [
    "print('MAE:', metrics.mean_absolute_error(y_test, predictions))\n",
    "print('MSE:', metrics.mean_squared_error(y_test, predictions))\n",
    "print('RMSE:',np.sqrt(metrics.mean_squared_error(y_test, predictions)))\n",
    "print('R^2:', metrics.explained_variance_score(y_test, predictions))"
   ]
  },
  {
   "cell_type": "code",
   "execution_count": 210,
   "id": "ef6e9c78-c528-4548-b22b-f7146c67c9b2",
   "metadata": {},
   "outputs": [
    {
     "name": "stdout",
     "output_type": "stream",
     "text": [
      "r2: 0.5123364200966503\n",
      "var_score:0.5123395129003689\n",
      "r2: 0.4259788049502483\n",
      "var_score:0.42597909170684956\n",
      "r2: 0.3847773922246127\n",
      "var_score:0.3847776052924695\n",
      "r2: 0.37733630961646514\n",
      "var_score:0.3773365159165234\n",
      "r2: 0.3752830741441405\n",
      "var_score:0.3752834318285023\n"
     ]
    }
   ],
   "source": [
    "#checking for the best alpha\n",
    "from sklearn.metrics import r2_score\n",
    "\n",
    "def train_eval(alpha):\n",
    "    lasso=Lasso(alpha=alpha)\n",
    "    lasso.fit(x_train,y_train)\n",
    "    predictions = lasso.predict(x_test)\n",
    "    r2 = r2_score(y_test, predictions)\n",
    "    var_score = metrics.explained_variance_score(y_test, predictions)\n",
    "    return r2, var_score\n",
    "\n",
    "for alpha in [0.001, 0.05, 0.2, 0.3, 0.4]:\n",
    "    r2, var_score = train_eval(alpha)\n",
    "    print(f'r2: {r2}')\n",
    "    print(f'var_score:{var_score}')\n",
    "    "
   ]
  },
  {
   "cell_type": "markdown",
   "id": "65b9742f-8940-4d5b-b927-f83ec4f43bc6",
   "metadata": {
    "jupyter": {
     "outputs_hidden": true
    },
    "tags": []
   },
   "source": [
    "# ElasticNet"
   ]
  },
  {
   "cell_type": "code",
   "execution_count": 211,
   "id": "0ba264f1-2ac0-4d5d-9a03-4cba164936cd",
   "metadata": {},
   "outputs": [
    {
     "data": {
      "text/plain": [
       "ElasticNet(alpha=0.001, l1_ratio=0.1)"
      ]
     },
     "execution_count": 211,
     "metadata": {},
     "output_type": "execute_result"
    }
   ],
   "source": [
    "from sklearn.linear_model import ElasticNet\n",
    "# define model\n",
    "model = ElasticNet(alpha=0.001, l1_ratio=0.1)\n",
    "# fit model\n",
    "model.fit(x_train,y_train)"
   ]
  },
  {
   "cell_type": "code",
   "execution_count": 212,
   "id": "74d27b57-8a64-4002-9e78-7abe8d3ff3cb",
   "metadata": {},
   "outputs": [
    {
     "name": "stdout",
     "output_type": "stream",
     "text": [
      "-13.17588680968743\n"
     ]
    }
   ],
   "source": [
    "print(model.intercept_)"
   ]
  },
  {
   "cell_type": "code",
   "execution_count": 213,
   "id": "24d5bbe1-0528-4363-af4f-722b3c844844",
   "metadata": {},
   "outputs": [
    {
     "data": {
      "text/html": [
       "<div>\n",
       "<style scoped>\n",
       "    .dataframe tbody tr th:only-of-type {\n",
       "        vertical-align: middle;\n",
       "    }\n",
       "\n",
       "    .dataframe tbody tr th {\n",
       "        vertical-align: top;\n",
       "    }\n",
       "\n",
       "    .dataframe thead th {\n",
       "        text-align: right;\n",
       "    }\n",
       "</style>\n",
       "<table border=\"1\" class=\"dataframe\">\n",
       "  <thead>\n",
       "    <tr style=\"text-align: right;\">\n",
       "      <th></th>\n",
       "      <th>Coefficient</th>\n",
       "    </tr>\n",
       "  </thead>\n",
       "  <tbody>\n",
       "    <tr>\n",
       "      <th>hour</th>\n",
       "      <td>-0.047389</td>\n",
       "    </tr>\n",
       "    <tr>\n",
       "      <th>lat</th>\n",
       "      <td>0.924755</td>\n",
       "    </tr>\n",
       "    <tr>\n",
       "      <th>long</th>\n",
       "      <td>-1.138741</td>\n",
       "    </tr>\n",
       "    <tr>\n",
       "      <th>signal</th>\n",
       "      <td>0.037103</td>\n",
       "    </tr>\n",
       "    <tr>\n",
       "      <th>status</th>\n",
       "      <td>2.390050</td>\n",
       "    </tr>\n",
       "    <tr>\n",
       "      <th>...</th>\n",
       "      <td>...</td>\n",
       "    </tr>\n",
       "    <tr>\n",
       "      <th>town_name_les Oluges</th>\n",
       "      <td>0.620130</td>\n",
       "    </tr>\n",
       "    <tr>\n",
       "      <th>town_name_les Planes d'Hostoles</th>\n",
       "      <td>0.525474</td>\n",
       "    </tr>\n",
       "    <tr>\n",
       "      <th>town_name_les Preses</th>\n",
       "      <td>-4.771688</td>\n",
       "    </tr>\n",
       "    <tr>\n",
       "      <th>town_name_les Valls de Valira</th>\n",
       "      <td>0.329163</td>\n",
       "    </tr>\n",
       "    <tr>\n",
       "      <th>town_name_Òdena</th>\n",
       "      <td>8.352751</td>\n",
       "    </tr>\n",
       "  </tbody>\n",
       "</table>\n",
       "<p>718 rows × 1 columns</p>\n",
       "</div>"
      ],
      "text/plain": [
       "                                 Coefficient\n",
       "hour                               -0.047389\n",
       "lat                                 0.924755\n",
       "long                               -1.138741\n",
       "signal                              0.037103\n",
       "status                              2.390050\n",
       "...                                      ...\n",
       "town_name_les Oluges                0.620130\n",
       "town_name_les Planes d'Hostoles     0.525474\n",
       "town_name_les Preses               -4.771688\n",
       "town_name_les Valls de Valira       0.329163\n",
       "town_name_Òdena                     8.352751\n",
       "\n",
       "[718 rows x 1 columns]"
      ]
     },
     "execution_count": 213,
     "metadata": {},
     "output_type": "execute_result"
    }
   ],
   "source": [
    "coeff_df = pd.DataFrame(model.coef_,x.columns,columns=['Coefficient'])\n",
    "coeff_df"
   ]
  },
  {
   "cell_type": "code",
   "execution_count": 214,
   "id": "91cc5592-295b-434b-93ac-fc90a4df2dbf",
   "metadata": {},
   "outputs": [
    {
     "name": "stdout",
     "output_type": "stream",
     "text": [
      "MAE: 16.40772657175058\n",
      "MSE: 493.07756083129834\n",
      "RMSE: 22.205349824564763\n",
      "R^2: 0.4885084447983241\n"
     ]
    },
    {
     "data": {
      "image/png": "[encoded data removed]",
      "text/plain": [
       "<Figure size 432x288 with 1 Axes>"
      ]
     },
     "metadata": {
      "needs_background": "light"
     },
     "output_type": "display_data"
    }
   ],
   "source": [
    "predictions = model.predict(x_test)\n",
    "plt.scatter(y_test,predictions)\n",
    "print('MAE:', metrics.mean_absolute_error(y_test, predictions))\n",
    "print('MSE:', metrics.mean_squared_error(y_test, predictions))\n",
    "print('RMSE:',np.sqrt(metrics.mean_squared_error(y_test, predictions)))\n",
    "print('R^2:', metrics.explained_variance_score(y_test, predictions))"
   ]
  },
  {
   "cell_type": "code",
   "execution_count": 215,
   "id": "e735298e-84f9-451e-b7ff-06d625a15dd1",
   "metadata": {},
   "outputs": [
    {
     "data": {
      "text/plain": [
       "25.25494404783015"
      ]
     },
     "execution_count": 215,
     "metadata": {},
     "output_type": "execute_result"
    }
   ],
   "source": [
    "#gering the mean to compare to RMSE\n",
    "filtered_df[\"speed\"].mean()"
   ]
  },
  {
   "cell_type": "code",
   "execution_count": 216,
   "id": "808b8089-da2c-4ffc-9b40-720ab26d2b9f",
   "metadata": {},
   "outputs": [
    {
     "name": "stdout",
     "output_type": "stream",
     "text": [
      "0\n"
     ]
    }
   ],
   "source": []
  },
  {
   "cell_type": "markdown",
   "id": "6f644edb-1e0e-4221-af01-541be5c98d28",
   "metadata": {},
   "source": [
    "# comparing our models \n",
    "## Ridge\n",
    "### MAE: 15.491869620394237\n",
    "### MSE: 464.7662246722964\n",
    "### RMSE: 21.558437435776657\n",
    "### R^2: 0.5178808815328103\n",
    "\n",
    "## lasso\n",
    "### MAE: 15.648825092071503\n",
    "### MSE: 467.98026617099214\n",
    "### RMSE: 21.63285154969155\n",
    "### R^2: 0.5145456304118439\n",
    "\n",
    "## ElasticNet\n",
    "### MAE: 16.398325236926862\n",
    "### MSE: 491.35424614077436\n",
    "### RMSE: 22.166511817170836\n",
    "### R^2: 0.4902968752609219\n",
    "\n",
    "### we can see that our models performed similarly but Ridge has a slightly better R^2 value which means the model is slightly more accurate\n",
    "### MAE gives us the error's value from the true values of the model but is sensitive to outliers and extreme values Ridge has better MAE, but because it is susceptive to outliers\n",
    "### we need to look at RMSE as well\n",
    "### a better parameter would be to use RMSE which is the square of mse it is less sensitive to large outliers in the data and Ridge has better RMSE  as well\n",
    "\n",
    "\n",
    "# FINDINGS \n",
    "\n",
    "### we will look at features that have a numeric value and have business sense \n",
    "### as we thought the time value has a negative impact on speed as we saw, so as we go later in the day the speed becomes lower.\n",
    "### the least impact feature is the signal, which is very surprising. one would expect that as the signal becomes better so would the speed \n",
    "### we can see that the bigest inpact is satelites.\n",
    "### I would still recommend Catalonia to invest in developing its 4G infrastructure and moving to faster ones like 5G which will release the congestion on 4g networks \n",
    "###  but from the finding, i would recommend Catalonia to presure or incentive the providers to create better satellite coverage \n",
    "\n",
    "\n",
    "# mising features \n",
    "\n",
    "### *I would definitely add the population size of each town \n",
    "### *number of cell antennas in each town \n",
    "### *the response time to each measurement which might be an added value for speed calculation \n",
    "### *a more in dept regional division of the data \n",
    "### *network load at the time of the measurement"
   ]
  },
  {
   "cell_type": "markdown",
   "id": "a57a6c7b-7c9c-433d-89d7-b9ac11502c90",
   "metadata": {},
   "source": [
    "#  predicts the network status\n",
    "### SVM works relatively well when there is a clear margin of separation between classes\n",
    "### SVM is relatively memory efficient\n",
    "### as we can see our accuracy to the model is good \n",
    "### note: we would have to adjust the algorithm or the feature amount if the data set would be any bigger "
   ]
  },
  {
   "cell_type": "code",
   "execution_count": 319,
   "id": "2b626dfc-4712-4360-8ea7-b33f3a49366c",
   "metadata": {},
   "outputs": [],
   "source": [
    "conditions = [\n",
    "    (filtered_df['status'] == 0),\n",
    "    (filtered_df['status'] == 1),\n",
    "    (filtered_df['status'] == 2),\n",
    "    (filtered_df['status'] == 3) \n",
    "]\n",
    "\n",
    "values = ['STATE_IN_SERVICE','STATE_OUT_OF_SERVICE','STATE_EMERGENCY_ONLY','STATE_POWER_OFF']\n",
    "\n",
    "filtered_df['status_des'] = np.select(conditions, values)"
   ]
  },
  {
   "cell_type": "code",
   "execution_count": 320,
   "id": "054e441c-0bda-49a6-8d63-e1ca9552b43b",
   "metadata": {
    "tags": []
   },
   "outputs": [
    {
     "data": {
      "text/plain": [
       "Index(['hour', 'lat', 'long', 'signal', 'network', 'status', 'speed',\n",
       "       'satellites', 'precission', 'postal_code',\n",
       "       ...\n",
       "       'town_name_les Franqueses del Vallès', 'town_name_les Llosses',\n",
       "       'town_name_les Masies de Roda', 'town_name_les Masies de Voltregà',\n",
       "       'town_name_les Oluges', 'town_name_les Planes d'Hostoles',\n",
       "       'town_name_les Preses', 'town_name_les Valls de Valira',\n",
       "       'town_name_Òdena', 'status_des'],\n",
       "      dtype='object', length=728)"
      ]
     },
     "execution_count": 320,
     "metadata": {},
     "output_type": "execute_result"
    }
   ],
   "source": [
    "filtered_df.columns"
   ]
  },
  {
   "cell_type": "code",
   "execution_count": 324,
   "id": "c19dd342-019f-4562-a8ff-3e2bb202150a",
   "metadata": {},
   "outputs": [],
   "source": [
    "fetures=[ 'hour', 'lat', 'long', 'signal',\n",
    "       'satellites', 'precission', 'month', 'net_2G', 'net_3G','net_4G', 'provider_network',\n",
    "       'provider_fused', 'provider_gps', 'activity_IN_VEHICLE',\n",
    "       'activity_ON_BICYCLE', 'activity_ON_FOOT', 'activity_STILL',\n",
    "       'activity_TILTING', 'activity_UNKNOWN', 'region_code_Barcelona',\n",
    "       'region_code_Girona', 'region_code_Lleida', 'region_code_Tarragona']\n",
    "target=['status_des']\n",
    "\n",
    "df_train, df_test = train_test_split(filtered_df, test_size=0.2)\n",
    "df_train=df_train[fetures+target]\n",
    "df_test=df_test[fetures+target]\n",
    "X_train = df_train[fetures].to_numpy()\n",
    "X_test = df_test[fetures].to_numpy()\n",
    "X_test.shape, X_train.shape\n",
    "\n",
    "y_train = df_train['status_des']\n",
    "y_test = df_test['status_des']\n"
   ]
  },
  {
   "cell_type": "code",
   "execution_count": null,
   "id": "48cbd4e1-702e-4e1c-9901-9a672d316372",
   "metadata": {},
   "outputs": [],
   "source": [
    "from sklearn.svm import SVC\n",
    "svm_model_linear = SVC(kernel = 'linear', C = 1).fit(X_train, y_train)\n",
    "svm_predictions = svm_model_linear.predict(X_test)\n",
    "  \n",
    "# model accuracy for X_test  \n",
    "accuracy = svm_model_linear.score(X_test, y_test)\n",
    "  \n",
    "# creating a confusion matrix\n",
    "cm = confusion_matrix(y_test, svm_predictions)"
   ]
  },
  {
   "cell_type": "code",
   "execution_count": 112,
   "id": "c48e55ab-952f-4dd3-bf09-7264aa644255",
   "metadata": {},
   "outputs": [
    {
     "name": "stdout",
     "output_type": "stream",
     "text": [
      "Accuracy: 0.9022920254141678\n"
     ]
    }
   ],
   "source": [
    "from sklearn import svm\n",
    "clf = svm.SVC(kernel='linear') \n",
    "clf.fit(X_train, y_train)\n",
    "y_pred = clf.predict(X_test)\n",
    "print(\"Accuracy:\",metrics.accuracy_score(y_test, y_pred))"
   ]
  }
 ],
 "metadata": {
  "kernelspec": {
   "display_name": "Python 3",
   "language": "python",
   "name": "python3"
  },
  "language_info": {
   "codemirror_mode": {
    "name": "ipython",
    "version": 3
   },
   "file_extension": ".py",
   "mimetype": "text/x-python",
   "name": "python",
   "nbconvert_exporter": "python",
   "pygments_lexer": "ipython3",
   "version": "3.8.8"
  }
 },
 "nbformat": 4,
 "nbformat_minor": 5
}
