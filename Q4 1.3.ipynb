{
 "cells": [
  {
   "cell_type": "markdown",
   "id": "40c85a6d-458d-4673-b5b3-1647265fb253",
   "metadata": {
    "tags": []
   },
   "source": [
    "### we will start by patching our notebook to be optimized to run with intel-based CPUs \n",
    "### by doing that we can make our sklearn models run much faster, and as we are dealing with a large data set it is very important \n",
    "### it is a good way to prevent Kernel crushes by reducing ram usage "
   ]
  },
  {
   "cell_type": "code",
   "execution_count": 147,
   "id": "e356ce2a-c8a1-4ee7-b996-e8fe094210fa",
   "metadata": {},
   "outputs": [
    {
     "name": "stderr",
     "output_type": "stream",
     "text": [
      "Intel(R) Extension for Scikit-learn* enabled (https://github.com/intel/scikit-learn-intelex)\n"
     ]
    }
   ],
   "source": [
    "from sklearnex import patch_sklearn \n",
    "patch_sklearn()"
   ]
  },
  {
   "cell_type": "markdown",
   "id": "7a6e6a62-346b-4bf6-aaff-a3059f6bce53",
   "metadata": {},
   "source": [
    "### importing needed libaries "
   ]
  },
  {
   "cell_type": "code",
   "execution_count": 148,
   "id": "0d9cde8d-5cfb-464c-b1e6-85c230cde254",
   "metadata": {},
   "outputs": [],
   "source": [
    "import pandas as pd\n",
    "import numpy as np\n",
    "import matplotlib.pyplot as plt\n",
    "import seaborn as sns\n",
    "from datetime import datetime\n",
    "import time\n",
    "%matplotlib inline"
   ]
  },
  {
   "cell_type": "markdown",
   "id": "851a347e-8158-47e2-a583-f63e3b6bf2b8",
   "metadata": {},
   "source": [
    "### importing our data and cleaning the data \n",
    "### cleaning the data includes turning any categorical data into numerical data to use with regression models "
   ]
  },
  {
   "cell_type": "code",
   "execution_count": null,
   "id": "5a260eb5-4407-4ed8-997a-66cbf9d597d0",
   "metadata": {},
   "outputs": [],
   "source": [
    "df = pd.read_csv('/Users/dimagoroh/Desktop/data_vis/big_file.csv', low_memory=False)"
   ]
  },
  {
   "cell_type": "code",
   "execution_count": null,
   "id": "2f8169c3-e786-4400-b0f8-490f057a550c",
   "metadata": {},
   "outputs": [],
   "source": [
    "df=df.drop(['downloadSpeed', 'uploadSpeed'], axis=1)\n",
    "df = df.dropna()"
   ]
  },
  {
   "cell_type": "code",
   "execution_count": null,
   "id": "03e437da-c2f3-42ce-abed-a59c82a23d65",
   "metadata": {},
   "outputs": [],
   "source": [
    "df[\"time\"] = df['date'].astype(str) + \" \" +df[\"hour\"]"
   ]
  },
  {
   "cell_type": "code",
   "execution_count": null,
   "id": "5164f3a9-8f7c-4c4d-9ef8-e42e0f98b958",
   "metadata": {},
   "outputs": [],
   "source": [
    "df['time'] = pd.to_datetime(df[\"time\"])\n",
    "df['hour']=df['time'].dt.hour\n",
    "df['minute']=df['time'].dt.minute\n",
    "df['hour']=df['time'].dt.hour\n",
    "df['second']=df['time'].dt.second\n",
    "df['month']=df['time'].dt.month\n",
    "df['day']=df['time'].dt.day\n",
    "df['postal_code'] = df['postal_code'].astype(str)\n",
    "df['region_code'] = df['postal_code'].str[:1]\n",
    "\n",
    "\n",
    "conditions = [\n",
    "    (df['region_code'] == \"8\"),\n",
    "    (df['region_code'] == \"1\"),\n",
    "     (df['region_code'] == \"2\"),\n",
    "    (df['region_code'] == \"4\") \n",
    "]\n",
    "\n",
    "values = ['Barcelona','Girona','Lleida','Tarragona']\n",
    "\n",
    "df['region_code'] = np.select(conditions, values)"
   ]
  },
  {
   "cell_type": "code",
   "execution_count": null,
   "id": "5379812e-6122-49e6-afad-470c7ba72451",
   "metadata": {},
   "outputs": [],
   "source": [
    "### checking our data correlation "
   ]
  },
  {
   "cell_type": "code",
   "execution_count": null,
   "id": "9f6bbdcc-d70b-493a-ad38-ad3ae9311ea5",
   "metadata": {},
   "outputs": [],
   "source": [
    "sns.heatmap(df.corr());\n"
   ]
  },
  {
   "cell_type": "markdown",
   "id": "28e949ca-22f9-4ee2-9252-bae60cc84f61",
   "metadata": {},
   "source": [
    "### choosing a network to predict  "
   ]
  },
  {
   "cell_type": "code",
   "execution_count": null,
   "id": "9785b256-958b-4bab-8292-5d470ca71bfc",
   "metadata": {
    "tags": []
   },
   "outputs": [],
   "source": [
    "\n",
    "df.groupby(['network'])['network'].count().sort_values(ascending=False).head(10)\n",
    "filtered_df = df[df['network'] == 'yoigo'] "
   ]
  },
  {
   "cell_type": "code",
   "execution_count": null,
   "id": "a213ab3f-c2f6-452f-8455-2b1e12ebca07",
   "metadata": {
    "jupyter": {
     "source_hidden": true
    },
    "tags": []
   },
   "outputs": [],
   "source": [
    "\n"
   ]
  },
  {
   "cell_type": "code",
   "execution_count": null,
   "id": "9f1d46a1-d37a-4e23-870c-81b52e251973",
   "metadata": {
    "collapsed": true,
    "jupyter": {
     "outputs_hidden": true,
     "source_hidden": true
    },
    "tags": []
   },
   "outputs": [],
   "source": []
  },
  {
   "cell_type": "code",
   "execution_count": null,
   "id": "1de6c2fd-03e1-47b4-bbf0-82af9051feea",
   "metadata": {},
   "outputs": [],
   "source": [
    "sns.heatmap(filtered_df.corr());\n"
   ]
  },
  {
   "cell_type": "code",
   "execution_count": null,
   "id": "01d2862e-b3ff-401b-91c0-ce4659e34c15",
   "metadata": {
    "tags": []
   },
   "outputs": [],
   "source": [
    "filtered_df[\"time\"] = pd.to_numeric(filtered_df[\"time\"], downcast=\"float\")\n",
    "filtered_df=filtered_df.drop(['date'], axis=1)\n",
    "filtered_df=filtered_df.drop(['row_num'], axis=1)\n",
    "filtered_df=filtered_df.drop(['town_name'], axis=1)\n",
    "filtered_df=filtered_df.drop(['description','operator'], axis=1)\n",
    "filtered_df=filtered_df.drop(['position_geom'], axis=1)\n",
    "filtered_df.info()\n"
   ]
  },
  {
   "cell_type": "code",
   "execution_count": null,
   "id": "8a8447c2-ebce-4138-a432-c5cab6dde700",
   "metadata": {},
   "outputs": [],
   "source": [
    "filtered_df=filtered_df.drop(['second','minute','postal_code'], axis=1)"
   ]
  },
  {
   "cell_type": "markdown",
   "id": "c733c43a-6387-4efe-8d03-149155ef4b35",
   "metadata": {},
   "source": [
    "### creating dummies for our categorical variables  "
   ]
  },
  {
   "cell_type": "code",
   "execution_count": null,
   "id": "007999b6-b3a8-437e-ac89-4f0fad3ac7ca",
   "metadata": {},
   "outputs": [],
   "source": [
    "categorical = ['net','provider','activity','region_code']\n"
   ]
  },
  {
   "cell_type": "code",
   "execution_count": null,
   "id": "4161c18c-a5f4-4df5-b379-d290dcbd8d79",
   "metadata": {
    "tags": []
   },
   "outputs": [],
   "source": [
    "df_dummies = pd.get_dummies(filtered_df, columns=categorical)\n"
   ]
  },
  {
   "cell_type": "code",
   "execution_count": null,
   "id": "93c95928-2b7e-408b-b6f2-447858db1437",
   "metadata": {
    "tags": []
   },
   "outputs": [],
   "source": [
    "filtered_df=df_dummies\n"
   ]
  },
  {
   "cell_type": "code",
   "execution_count": null,
   "id": "04bb3ad8-98dc-4238-9ed4-fbd68f58db2b",
   "metadata": {
    "tags": []
   },
   "outputs": [],
   "source": [
    "filtered_df.columns"
   ]
  },
  {
   "cell_type": "code",
   "execution_count": null,
   "id": "ef2d8637-1c39-4598-8c93-c70a22136156",
   "metadata": {},
   "outputs": [],
   "source": [
    "filtered_df.shape"
   ]
  },
  {
   "cell_type": "code",
   "execution_count": null,
   "id": "6f4d2629-ad6a-4c24-bafe-21d6dd00b5cc",
   "metadata": {},
   "outputs": [],
   "source": [
    "from sklearn.model_selection import train_test_split\n"
   ]
  },
  {
   "cell_type": "code",
   "execution_count": null,
   "id": "cb0f2ffb-6c3f-4fa1-b776-f71c0b1fae28",
   "metadata": {
    "tags": []
   },
   "outputs": [],
   "source": [
    "fetures=[ 'hour', 'lat', 'long', 'signal', 'status','net_2G', 'net_3G','net_4G','satellites', 'precission', 'month', 'activity_IN_VEHICLE',\n",
    "          'activity_ON_BICYCLE', 'activity_ON_FOOT', 'activity_STILL','activity_TILTING', 'region_code_Barcelona','region_code_Girona', \n",
    "          'region_code_Lleida', 'region_code_Tarragona']"
   ]
  },
  {
   "cell_type": "code",
   "execution_count": null,
   "id": "e8dca180-096c-4476-9084-9dc87b6caa3b",
   "metadata": {},
   "outputs": [],
   "source": [
    "target=['speed']"
   ]
  },
  {
   "cell_type": "markdown",
   "id": "285abc6f-ca92-45da-83e0-fd62346d3211",
   "metadata": {},
   "source": [
    "### preparing our data to test and train "
   ]
  },
  {
   "cell_type": "code",
   "execution_count": null,
   "id": "5cd72ef9-7198-4fd6-98d9-6f5bcfd2dab5",
   "metadata": {},
   "outputs": [],
   "source": [
    "df_train, df_test = train_test_split(filtered_df, test_size=0.2)\n",
    "df_train=df_train[fetures+target]\n",
    "df_test=df_test[fetures+target]\n",
    "x_train = df_train[fetures].to_numpy()\n",
    "x_test = df_test[fetures].to_numpy()\n",
    "x_test.shape, x_train.shape\n"
   ]
  },
  {
   "cell_type": "code",
   "execution_count": null,
   "id": "44d1c779-a2b8-4464-a4dd-0e8159913496",
   "metadata": {},
   "outputs": [],
   "source": [
    "y_train = df_train['speed']\n",
    "y_test = df_test['speed']\n",
    "\n"
   ]
  },
  {
   "cell_type": "markdown",
   "id": "f9abfa43-dc79-4eb2-bd1c-b19545a1a61d",
   "metadata": {},
   "source": [
    "# <b>choosing the correct algoritem </b>\n",
    "## <b>Linear Regression is very easy and fast to implement but-\n",
    "### it Assumes linear relationship between dependent and independent variables, which is incorrect in most cases and especialy as we saw from the heat map at our data set \n",
    "### Sensitive to outliers\n",
    "### If the number of observations are less, it leads to over fitting, it starts considering noise.\n",
    "\n",
    "## <b>Ridge Regression-</b>\n",
    "### Trades variance for bias (i.e. in presence of co-linearity, it is worth to have biased results, in order to lower the variance.)\n",
    "### Prevents over fitting\n",
    "\n",
    "## <b>LASSO Regression-</b>\n",
    "### Selected features will be highly biased.\n",
    "### For n<<p (n-number of data points, p-number of features), LASSO selects at most n features.\n",
    "### LASSO will select only one feature from a group of correlated features, the selection is arbitrary in nature.\n",
    "### For different boot strapped data, the feature selected can be very different.\n",
    "### Prediction performance is worse than Ridge regression.\n",
    "\n",
    "## <b>Elastic Net Regression-</b>\n",
    "### Computationally more expensive than LASSO or Ridge.\n"
   ]
  },
  {
   "cell_type": "markdown",
   "id": "2dc0dccb-fa45-4435-a131-1f043a17d130",
   "metadata": {},
   "source": [
    "# Ridge  Ridge"
   ]
  },
  {
   "cell_type": "code",
   "execution_count": null,
   "id": "259c93fc-cc9c-492d-9b6d-c780555ef65b",
   "metadata": {},
   "outputs": [],
   "source": [
    "# make a prediction with a ridge regression model on the dataset\n",
    "\n",
    "from sklearn.linear_model import Ridge\n",
    "\n",
    "# define model\n",
    "model = Ridge(alpha=0.01)\n",
    "# fit model\n",
    "model.fit(x_train,y_train)\n"
   ]
  },
  {
   "cell_type": "code",
   "execution_count": null,
   "id": "cab3a528-50c2-4f23-85d1-d0372a1b0885",
   "metadata": {},
   "outputs": [],
   "source": [
    "coeff_df_Ridge = pd.DataFrame(model.coef_,fetures,columns=['Coefficient'])\n",
    "coeff_df_Ridge\n"
   ]
  },
  {
   "cell_type": "code",
   "execution_count": null,
   "id": "693fc85e-c020-4327-ae94-590f7617d755",
   "metadata": {},
   "outputs": [],
   "source": [
    "predictions = model.predict(x_test)\n",
    "plt.scatter(y_test,predictions)"
   ]
  },
  {
   "cell_type": "code",
   "execution_count": null,
   "id": "dc200654-5402-4d5e-9460-9f103515350e",
   "metadata": {},
   "outputs": [],
   "source": [
    "sns.displot((y_test-predictions),bins=50);"
   ]
  },
  {
   "cell_type": "code",
   "execution_count": null,
   "id": "95f45c0c-f5ef-48ff-b874-fe4577166227",
   "metadata": {},
   "outputs": [],
   "source": [
    "from sklearn import metrics\n",
    "print('MAE:', metrics.mean_absolute_error(y_test, predictions))\n",
    "print('MSE:', metrics.mean_squared_error(y_test, predictions))\n",
    "print('RMSE:', np.sqrt(metrics.mean_squared_error(y_test, predictions)))\n",
    "metrics.explained_variance_score(y_test, predictions)"
   ]
  },
  {
   "cell_type": "markdown",
   "id": "17023b5d-3827-464a-a53c-ac6cd2c1a261",
   "metadata": {},
   "source": [
    "### picking the best alpha value"
   ]
  },
  {
   "cell_type": "code",
   "execution_count": null,
   "id": "c9a28730-ccd9-49f5-900c-b3336ecc4ad7",
   "metadata": {
    "tags": []
   },
   "outputs": [],
   "source": [
    "from sklearn.metrics import r2_score\n",
    "\n",
    "def train_eval(alpha):\n",
    "    model=Ridge(alpha=alpha)\n",
    "    model.fit(x_train,y_train)\n",
    "    predictions = model.predict(x_test)\n",
    "    r2 = r2_score(y_test, predictions)\n",
    "    var_score = metrics.explained_variance_score(y_test, predictions)\n",
    "    return r2, var_score\n",
    "\n",
    "for alpha in [0.0001, 0.05, 0.2, 0.3, 0.4]:\n",
    "    r2, var_score = train_eval(alpha)\n",
    "    print(f'r2: {r2}')\n",
    "    print(f'var_score:{var_score}')"
   ]
  },
  {
   "cell_type": "markdown",
   "id": "a10c508d-5f9f-4b3f-9d6f-4ab5d6298c18",
   "metadata": {},
   "source": [
    "# Lasso"
   ]
  },
  {
   "cell_type": "code",
   "execution_count": 85,
   "id": "42fbfb0e-5365-496b-8be1-ab46ae0f046e",
   "metadata": {},
   "outputs": [
    {
     "data": {
      "text/plain": [
       "((269456,), (67364,))"
      ]
     },
     "execution_count": 85,
     "metadata": {},
     "output_type": "execute_result"
    }
   ],
   "source": [
    "y_train.shape, y_test.shape"
   ]
  },
  {
   "cell_type": "code",
   "execution_count": 86,
   "id": "39409ee6-1d23-4f5b-af48-33001ee6df96",
   "metadata": {},
   "outputs": [],
   "source": [
    "from sklearn.preprocessing import StandardScaler\n",
    "from sklearn.linear_model import Lasso"
   ]
  },
  {
   "cell_type": "code",
   "execution_count": 87,
   "id": "6a36146b-57d7-4a68-b779-adb629c088e9",
   "metadata": {},
   "outputs": [],
   "source": [
    "# stndrd= StandardScaler()"
   ]
  },
  {
   "cell_type": "code",
   "execution_count": 88,
   "id": "5f4c0165-1720-453e-a42f-bf76e0dd9e80",
   "metadata": {},
   "outputs": [],
   "source": [
    "# x_train=stndrd.fit_transform(x_train)\n",
    "# x_test=stndrd.transform(x_test)"
   ]
  },
  {
   "cell_type": "code",
   "execution_count": 89,
   "id": "576f7bb4-9f5c-42ca-aa62-0a69457bf5bb",
   "metadata": {},
   "outputs": [
    {
     "name": "stdout",
     "output_type": "stream",
     "text": [
      "-379.80032158092916\n"
     ]
    }
   ],
   "source": [
    "lasso=Lasso(alpha=0.01)\n",
    "lasso.fit(x_train,y_train)\n",
    "print(lasso.intercept_)"
   ]
  },
  {
   "cell_type": "code",
   "execution_count": 90,
   "id": "599198d1-5b19-487b-a6ec-478d0047d500",
   "metadata": {},
   "outputs": [
    {
     "data": {
      "text/html": [
       "<div>\n",
       "<style scoped>\n",
       "    .dataframe tbody tr th:only-of-type {\n",
       "        vertical-align: middle;\n",
       "    }\n",
       "\n",
       "    .dataframe tbody tr th {\n",
       "        vertical-align: top;\n",
       "    }\n",
       "\n",
       "    .dataframe thead th {\n",
       "        text-align: right;\n",
       "    }\n",
       "</style>\n",
       "<table border=\"1\" class=\"dataframe\">\n",
       "  <thead>\n",
       "    <tr style=\"text-align: right;\">\n",
       "      <th></th>\n",
       "      <th>Coefficient</th>\n",
       "    </tr>\n",
       "  </thead>\n",
       "  <tbody>\n",
       "    <tr>\n",
       "      <th>hour</th>\n",
       "      <td>-0.047976</td>\n",
       "    </tr>\n",
       "    <tr>\n",
       "      <th>lat</th>\n",
       "      <td>9.153648</td>\n",
       "    </tr>\n",
       "    <tr>\n",
       "      <th>long</th>\n",
       "      <td>-1.211848</td>\n",
       "    </tr>\n",
       "    <tr>\n",
       "      <th>signal</th>\n",
       "      <td>-0.044300</td>\n",
       "    </tr>\n",
       "    <tr>\n",
       "      <th>status</th>\n",
       "      <td>3.253379</td>\n",
       "    </tr>\n",
       "    <tr>\n",
       "      <th>net_2G</th>\n",
       "      <td>3.290796</td>\n",
       "    </tr>\n",
       "    <tr>\n",
       "      <th>net_3G</th>\n",
       "      <td>0.000000</td>\n",
       "    </tr>\n",
       "    <tr>\n",
       "      <th>net_4G</th>\n",
       "      <td>-3.567852</td>\n",
       "    </tr>\n",
       "    <tr>\n",
       "      <th>satellites</th>\n",
       "      <td>0.965699</td>\n",
       "    </tr>\n",
       "    <tr>\n",
       "      <th>precission</th>\n",
       "      <td>-0.026723</td>\n",
       "    </tr>\n",
       "    <tr>\n",
       "      <th>month</th>\n",
       "      <td>0.003446</td>\n",
       "    </tr>\n",
       "    <tr>\n",
       "      <th>activity_IN_VEHICLE</th>\n",
       "      <td>36.035667</td>\n",
       "    </tr>\n",
       "    <tr>\n",
       "      <th>activity_ON_BICYCLE</th>\n",
       "      <td>5.373492</td>\n",
       "    </tr>\n",
       "    <tr>\n",
       "      <th>activity_ON_FOOT</th>\n",
       "      <td>-3.705052</td>\n",
       "    </tr>\n",
       "    <tr>\n",
       "      <th>activity_STILL</th>\n",
       "      <td>1.116800</td>\n",
       "    </tr>\n",
       "    <tr>\n",
       "      <th>activity_TILTING</th>\n",
       "      <td>1.934971</td>\n",
       "    </tr>\n",
       "    <tr>\n",
       "      <th>region_code_Barcelona</th>\n",
       "      <td>2.650951</td>\n",
       "    </tr>\n",
       "    <tr>\n",
       "      <th>region_code_Girona</th>\n",
       "      <td>-0.894141</td>\n",
       "    </tr>\n",
       "    <tr>\n",
       "      <th>region_code_Lleida</th>\n",
       "      <td>-6.002293</td>\n",
       "    </tr>\n",
       "    <tr>\n",
       "      <th>region_code_Tarragona</th>\n",
       "      <td>7.032685</td>\n",
       "    </tr>\n",
       "  </tbody>\n",
       "</table>\n",
       "</div>"
      ],
      "text/plain": [
       "                       Coefficient\n",
       "hour                     -0.047976\n",
       "lat                       9.153648\n",
       "long                     -1.211848\n",
       "signal                   -0.044300\n",
       "status                    3.253379\n",
       "net_2G                    3.290796\n",
       "net_3G                    0.000000\n",
       "net_4G                   -3.567852\n",
       "satellites                0.965699\n",
       "precission               -0.026723\n",
       "month                     0.003446\n",
       "activity_IN_VEHICLE      36.035667\n",
       "activity_ON_BICYCLE       5.373492\n",
       "activity_ON_FOOT         -3.705052\n",
       "activity_STILL            1.116800\n",
       "activity_TILTING          1.934971\n",
       "region_code_Barcelona     2.650951\n",
       "region_code_Girona       -0.894141\n",
       "region_code_Lleida       -6.002293\n",
       "region_code_Tarragona     7.032685"
      ]
     },
     "execution_count": 90,
     "metadata": {},
     "output_type": "execute_result"
    }
   ],
   "source": [
    "coeff_df = pd.DataFrame(lasso.coef_,fetures,columns=['Coefficient'])\n",
    "coeff_df\n"
   ]
  },
  {
   "cell_type": "code",
   "execution_count": 91,
   "id": "c842d2b9-137c-4d25-befc-85894aa0d13d",
   "metadata": {},
   "outputs": [
    {
     "data": {
      "text/plain": [
       "<matplotlib.collections.PathCollection at 0x7f8ab1b33a30>"
      ]
     },
     "execution_count": 91,
     "metadata": {},
     "output_type": "execute_result"
    },
    {
     "data": {
      "image/png": "[encoded data removed]",
      "text/plain": [
       "<Figure size 432x288 with 1 Axes>"
      ]
     },
     "metadata": {
      "needs_background": "light"
     },
     "output_type": "display_data"
    }
   ],
   "source": [
    "predictions = lasso.predict(x_test)\n",
    "plt.scatter(y_test,predictions)"
   ]
  },
  {
   "cell_type": "code",
   "execution_count": 92,
   "id": "d706dbf2-e338-4dd5-a68f-5c6b536b9fd5",
   "metadata": {},
   "outputs": [
    {
     "data": {
      "image/png": "[encoded data removed]",
      "text/plain": [
       "<Figure size 360x360 with 1 Axes>"
      ]
     },
     "metadata": {
      "needs_background": "light"
     },
     "output_type": "display_data"
    }
   ],
   "source": [
    "sns.displot((y_test-predictions),bins=50);\n"
   ]
  },
  {
   "cell_type": "code",
   "execution_count": 93,
   "id": "367b8410-eaef-4c59-8e43-1154c8ef6f38",
   "metadata": {},
   "outputs": [
    {
     "name": "stdout",
     "output_type": "stream",
     "text": [
      "MAE: 19.801831831856592\n",
      "MSE: 781.7110314854434\n",
      "RMSE: 27.959095684328624\n"
     ]
    },
    {
     "data": {
      "text/plain": [
       "0.3551588791033582"
      ]
     },
     "execution_count": 93,
     "metadata": {},
     "output_type": "execute_result"
    }
   ],
   "source": [
    "\n",
    "from sklearn import metrics\n",
    "print('MAE:', metrics.mean_absolute_error(y_test, predictions))\n",
    "print('MSE:', metrics.mean_squared_error(y_test, predictions))\n",
    "print('RMSE:', np.sqrt(metrics.mean_squared_error(y_test, predictions)))\n",
    "metrics.explained_variance_score(y_test, predictions)"
   ]
  },
  {
   "cell_type": "code",
   "execution_count": 94,
   "id": "ef6e9c78-c528-4548-b22b-f7146c67c9b2",
   "metadata": {},
   "outputs": [
    {
     "name": "stdout",
     "output_type": "stream",
     "text": [
      "r2: 0.3552376810476753\n",
      "var_score:0.35524727529823763\n",
      "r2: 0.3541621779738018\n",
      "var_score:0.35417143834782794\n",
      "r2: 0.3512148350925127\n",
      "var_score:0.3512242528449713\n",
      "r2: 0.34999492458031023\n",
      "var_score:0.35000461317712417\n",
      "r2: 0.34900153098386544\n",
      "var_score:0.34901146957333307\n"
     ]
    }
   ],
   "source": [
    "#checking for the best alpha\n",
    "from sklearn.metrics import r2_score\n",
    "\n",
    "def train_eval(alpha):\n",
    "    lasso=Lasso(alpha=alpha)\n",
    "    lasso.fit(x_train,y_train)\n",
    "    predictions = lasso.predict(x_test)\n",
    "    r2 = r2_score(y_test, predictions)\n",
    "    var_score = metrics.explained_variance_score(y_test, predictions)\n",
    "    return r2, var_score\n",
    "\n",
    "for alpha in [0.001, 0.05, 0.2, 0.3, 0.4]:\n",
    "    r2, var_score = train_eval(alpha)\n",
    "    print(f'r2: {r2}')\n",
    "    print(f'var_score:{var_score}')\n",
    "    "
   ]
  },
  {
   "cell_type": "markdown",
   "id": "76d92d5d-880e-4e7c-a188-ea5ef70df3b0",
   "metadata": {},
   "source": [
    "# linear_model"
   ]
  },
  {
   "cell_type": "code",
   "execution_count": 95,
   "id": "995efd80-49b6-445a-9789-133f8d2fbebf",
   "metadata": {
    "tags": []
   },
   "outputs": [
    {
     "data": {
      "text/plain": [
       "LinearRegression()"
      ]
     },
     "execution_count": 95,
     "metadata": {},
     "output_type": "execute_result"
    }
   ],
   "source": [
    "from sklearn.linear_model import LinearRegression\n",
    "from sklearn.preprocessing import PolynomialFeatures\n",
    "poly = PolynomialFeatures(1)\n",
    "x_train_poli=poly.fit_transform(x_train)\n",
    "model_lin_reg = LinearRegression()\n",
    "model_lin_reg.fit(x_train,x_train)\n"
   ]
  },
  {
   "cell_type": "code",
   "execution_count": 96,
   "id": "8a605b25-85a4-498a-97ca-e1a092e32ba3",
   "metadata": {
    "tags": []
   },
   "outputs": [],
   "source": [
    "X_test_poli=poly.transform(x_test)"
   ]
  },
  {
   "cell_type": "code",
   "execution_count": 97,
   "id": "15195a11-fa4b-4c8b-a677-f1088d9d8378",
   "metadata": {
    "collapsed": true,
    "jupyter": {
     "outputs_hidden": true
    },
    "tags": []
   },
   "outputs": [
    {
     "name": "stdout",
     "output_type": "stream",
     "text": [
      "[  0.          91.97631701   0.           0.           0.\n",
      "   0.           0.          -0.71856498   0.          45.9881585\n",
      " -11.49703963   0.           0.           0.35928249   0.\n",
      "   0.           0.           0.17964124   0.17964124  -0.17964124]\n"
     ]
    }
   ],
   "source": [
    "print(model_lin_reg.intercept_)"
   ]
  },
  {
   "cell_type": "code",
   "execution_count": 98,
   "id": "072d2a60-9111-42e0-bd3f-4b6bc7094bc3",
   "metadata": {
    "collapsed": true,
    "jupyter": {
     "outputs_hidden": true,
     "source_hidden": true
    },
    "tags": []
   },
   "outputs": [
    {
     "ename": "ValueError",
     "evalue": "Shape of passed values is (20, 20), indices imply (20, 1)",
     "output_type": "error",
     "traceback": [
      "\u001b[0;31m---------------------------------------------------------------------------\u001b[0m",
      "\u001b[0;31mValueError\u001b[0m                                Traceback (most recent call last)",
      "\u001b[0;32m~/opt/anaconda3/lib/python3.8/site-packages/pandas/core/internals/managers.py\u001b[0m in \u001b[0;36mcreate_block_manager_from_blocks\u001b[0;34m(blocks, axes)\u001b[0m\n\u001b[1;32m   1674\u001b[0m                 blocks = [\n\u001b[0;32m-> 1675\u001b[0;31m                     make_block(\n\u001b[0m\u001b[1;32m   1676\u001b[0m                         \u001b[0mvalues\u001b[0m\u001b[0;34m=\u001b[0m\u001b[0mblocks\u001b[0m\u001b[0;34m[\u001b[0m\u001b[0;36m0\u001b[0m\u001b[0;34m]\u001b[0m\u001b[0;34m,\u001b[0m \u001b[0mplacement\u001b[0m\u001b[0;34m=\u001b[0m\u001b[0mslice\u001b[0m\u001b[0;34m(\u001b[0m\u001b[0;36m0\u001b[0m\u001b[0;34m,\u001b[0m \u001b[0mlen\u001b[0m\u001b[0;34m(\u001b[0m\u001b[0maxes\u001b[0m\u001b[0;34m[\u001b[0m\u001b[0;36m0\u001b[0m\u001b[0;34m]\u001b[0m\u001b[0;34m)\u001b[0m\u001b[0;34m)\u001b[0m\u001b[0;34m,\u001b[0m \u001b[0mndim\u001b[0m\u001b[0;34m=\u001b[0m\u001b[0;36m2\u001b[0m\u001b[0;34m\u001b[0m\u001b[0;34m\u001b[0m\u001b[0m\n",
      "\u001b[0;32m~/opt/anaconda3/lib/python3.8/site-packages/pandas/core/internals/blocks.py\u001b[0m in \u001b[0;36mmake_block\u001b[0;34m(values, placement, klass, ndim, dtype)\u001b[0m\n\u001b[1;32m   2741\u001b[0m \u001b[0;34m\u001b[0m\u001b[0m\n\u001b[0;32m-> 2742\u001b[0;31m     \u001b[0;32mreturn\u001b[0m \u001b[0mklass\u001b[0m\u001b[0;34m(\u001b[0m\u001b[0mvalues\u001b[0m\u001b[0;34m,\u001b[0m \u001b[0mndim\u001b[0m\u001b[0;34m=\u001b[0m\u001b[0mndim\u001b[0m\u001b[0;34m,\u001b[0m \u001b[0mplacement\u001b[0m\u001b[0;34m=\u001b[0m\u001b[0mplacement\u001b[0m\u001b[0;34m)\u001b[0m\u001b[0;34m\u001b[0m\u001b[0;34m\u001b[0m\u001b[0m\n\u001b[0m\u001b[1;32m   2743\u001b[0m \u001b[0;34m\u001b[0m\u001b[0m\n",
      "\u001b[0;32m~/opt/anaconda3/lib/python3.8/site-packages/pandas/core/internals/blocks.py\u001b[0m in \u001b[0;36m__init__\u001b[0;34m(self, values, placement, ndim)\u001b[0m\n\u001b[1;32m    141\u001b[0m         \u001b[0;32mif\u001b[0m \u001b[0mself\u001b[0m\u001b[0;34m.\u001b[0m\u001b[0m_validate_ndim\u001b[0m \u001b[0;32mand\u001b[0m \u001b[0mself\u001b[0m\u001b[0;34m.\u001b[0m\u001b[0mndim\u001b[0m \u001b[0;32mand\u001b[0m \u001b[0mlen\u001b[0m\u001b[0;34m(\u001b[0m\u001b[0mself\u001b[0m\u001b[0;34m.\u001b[0m\u001b[0mmgr_locs\u001b[0m\u001b[0;34m)\u001b[0m \u001b[0;34m!=\u001b[0m \u001b[0mlen\u001b[0m\u001b[0;34m(\u001b[0m\u001b[0mself\u001b[0m\u001b[0;34m.\u001b[0m\u001b[0mvalues\u001b[0m\u001b[0;34m)\u001b[0m\u001b[0;34m:\u001b[0m\u001b[0;34m\u001b[0m\u001b[0;34m\u001b[0m\u001b[0m\n\u001b[0;32m--> 142\u001b[0;31m             raise ValueError(\n\u001b[0m\u001b[1;32m    143\u001b[0m                 \u001b[0;34mf\"Wrong number of items passed {len(self.values)}, \"\u001b[0m\u001b[0;34m\u001b[0m\u001b[0;34m\u001b[0m\u001b[0m\n",
      "\u001b[0;31mValueError\u001b[0m: Wrong number of items passed 20, placement implies 1",
      "\nDuring handling of the above exception, another exception occurred:\n",
      "\u001b[0;31mValueError\u001b[0m                                Traceback (most recent call last)",
      "\u001b[0;32m<ipython-input-98-698464f1bffa>\u001b[0m in \u001b[0;36m<module>\u001b[0;34m\u001b[0m\n\u001b[0;32m----> 1\u001b[0;31m \u001b[0mcoeff_df\u001b[0m \u001b[0;34m=\u001b[0m \u001b[0mpd\u001b[0m\u001b[0;34m.\u001b[0m\u001b[0mDataFrame\u001b[0m\u001b[0;34m(\u001b[0m\u001b[0mmodel_lin_reg\u001b[0m\u001b[0;34m.\u001b[0m\u001b[0mcoef_\u001b[0m\u001b[0;34m,\u001b[0m\u001b[0mfetures\u001b[0m\u001b[0;34m,\u001b[0m\u001b[0mcolumns\u001b[0m\u001b[0;34m=\u001b[0m\u001b[0;34m[\u001b[0m\u001b[0;34m'Coefficient'\u001b[0m\u001b[0;34m]\u001b[0m\u001b[0;34m)\u001b[0m\u001b[0;34m\u001b[0m\u001b[0;34m\u001b[0m\u001b[0m\n\u001b[0m\u001b[1;32m      2\u001b[0m \u001b[0mcoeff_df\u001b[0m\u001b[0;34m\u001b[0m\u001b[0;34m\u001b[0m\u001b[0m\n",
      "\u001b[0;32m~/opt/anaconda3/lib/python3.8/site-packages/pandas/core/frame.py\u001b[0m in \u001b[0;36m__init__\u001b[0;34m(self, data, index, columns, dtype, copy)\u001b[0m\n\u001b[1;32m    556\u001b[0m                 \u001b[0mmgr\u001b[0m \u001b[0;34m=\u001b[0m \u001b[0minit_dict\u001b[0m\u001b[0;34m(\u001b[0m\u001b[0;34m{\u001b[0m\u001b[0mdata\u001b[0m\u001b[0;34m.\u001b[0m\u001b[0mname\u001b[0m\u001b[0;34m:\u001b[0m \u001b[0mdata\u001b[0m\u001b[0;34m}\u001b[0m\u001b[0;34m,\u001b[0m \u001b[0mindex\u001b[0m\u001b[0;34m,\u001b[0m \u001b[0mcolumns\u001b[0m\u001b[0;34m,\u001b[0m \u001b[0mdtype\u001b[0m\u001b[0;34m=\u001b[0m\u001b[0mdtype\u001b[0m\u001b[0;34m)\u001b[0m\u001b[0;34m\u001b[0m\u001b[0;34m\u001b[0m\u001b[0m\n\u001b[1;32m    557\u001b[0m             \u001b[0;32melse\u001b[0m\u001b[0;34m:\u001b[0m\u001b[0;34m\u001b[0m\u001b[0;34m\u001b[0m\u001b[0m\n\u001b[0;32m--> 558\u001b[0;31m                 \u001b[0mmgr\u001b[0m \u001b[0;34m=\u001b[0m \u001b[0minit_ndarray\u001b[0m\u001b[0;34m(\u001b[0m\u001b[0mdata\u001b[0m\u001b[0;34m,\u001b[0m \u001b[0mindex\u001b[0m\u001b[0;34m,\u001b[0m \u001b[0mcolumns\u001b[0m\u001b[0;34m,\u001b[0m \u001b[0mdtype\u001b[0m\u001b[0;34m=\u001b[0m\u001b[0mdtype\u001b[0m\u001b[0;34m,\u001b[0m \u001b[0mcopy\u001b[0m\u001b[0;34m=\u001b[0m\u001b[0mcopy\u001b[0m\u001b[0;34m)\u001b[0m\u001b[0;34m\u001b[0m\u001b[0;34m\u001b[0m\u001b[0m\n\u001b[0m\u001b[1;32m    559\u001b[0m \u001b[0;34m\u001b[0m\u001b[0m\n\u001b[1;32m    560\u001b[0m         \u001b[0;31m# For data is list-like, or Iterable (will consume into list)\u001b[0m\u001b[0;34m\u001b[0m\u001b[0;34m\u001b[0m\u001b[0;34m\u001b[0m\u001b[0m\n",
      "\u001b[0;32m~/opt/anaconda3/lib/python3.8/site-packages/pandas/core/internals/construction.py\u001b[0m in \u001b[0;36minit_ndarray\u001b[0;34m(values, index, columns, dtype, copy)\u001b[0m\n\u001b[1;32m    236\u001b[0m         \u001b[0mblock_values\u001b[0m \u001b[0;34m=\u001b[0m \u001b[0;34m[\u001b[0m\u001b[0mvalues\u001b[0m\u001b[0;34m]\u001b[0m\u001b[0;34m\u001b[0m\u001b[0;34m\u001b[0m\u001b[0m\n\u001b[1;32m    237\u001b[0m \u001b[0;34m\u001b[0m\u001b[0m\n\u001b[0;32m--> 238\u001b[0;31m     \u001b[0;32mreturn\u001b[0m \u001b[0mcreate_block_manager_from_blocks\u001b[0m\u001b[0;34m(\u001b[0m\u001b[0mblock_values\u001b[0m\u001b[0;34m,\u001b[0m \u001b[0;34m[\u001b[0m\u001b[0mcolumns\u001b[0m\u001b[0;34m,\u001b[0m \u001b[0mindex\u001b[0m\u001b[0;34m]\u001b[0m\u001b[0;34m)\u001b[0m\u001b[0;34m\u001b[0m\u001b[0;34m\u001b[0m\u001b[0m\n\u001b[0m\u001b[1;32m    239\u001b[0m \u001b[0;34m\u001b[0m\u001b[0m\n\u001b[1;32m    240\u001b[0m \u001b[0;34m\u001b[0m\u001b[0m\n",
      "\u001b[0;32m~/opt/anaconda3/lib/python3.8/site-packages/pandas/core/internals/managers.py\u001b[0m in \u001b[0;36mcreate_block_manager_from_blocks\u001b[0;34m(blocks, axes)\u001b[0m\n\u001b[1;32m   1685\u001b[0m         \u001b[0mblocks\u001b[0m \u001b[0;34m=\u001b[0m \u001b[0;34m[\u001b[0m\u001b[0mgetattr\u001b[0m\u001b[0;34m(\u001b[0m\u001b[0mb\u001b[0m\u001b[0;34m,\u001b[0m \u001b[0;34m\"values\"\u001b[0m\u001b[0;34m,\u001b[0m \u001b[0mb\u001b[0m\u001b[0;34m)\u001b[0m \u001b[0;32mfor\u001b[0m \u001b[0mb\u001b[0m \u001b[0;32min\u001b[0m \u001b[0mblocks\u001b[0m\u001b[0;34m]\u001b[0m\u001b[0;34m\u001b[0m\u001b[0;34m\u001b[0m\u001b[0m\n\u001b[1;32m   1686\u001b[0m         \u001b[0mtot_items\u001b[0m \u001b[0;34m=\u001b[0m \u001b[0msum\u001b[0m\u001b[0;34m(\u001b[0m\u001b[0mb\u001b[0m\u001b[0;34m.\u001b[0m\u001b[0mshape\u001b[0m\u001b[0;34m[\u001b[0m\u001b[0;36m0\u001b[0m\u001b[0;34m]\u001b[0m \u001b[0;32mfor\u001b[0m \u001b[0mb\u001b[0m \u001b[0;32min\u001b[0m \u001b[0mblocks\u001b[0m\u001b[0;34m)\u001b[0m\u001b[0;34m\u001b[0m\u001b[0;34m\u001b[0m\u001b[0m\n\u001b[0;32m-> 1687\u001b[0;31m         \u001b[0;32mraise\u001b[0m \u001b[0mconstruction_error\u001b[0m\u001b[0;34m(\u001b[0m\u001b[0mtot_items\u001b[0m\u001b[0;34m,\u001b[0m \u001b[0mblocks\u001b[0m\u001b[0;34m[\u001b[0m\u001b[0;36m0\u001b[0m\u001b[0;34m]\u001b[0m\u001b[0;34m.\u001b[0m\u001b[0mshape\u001b[0m\u001b[0;34m[\u001b[0m\u001b[0;36m1\u001b[0m\u001b[0;34m:\u001b[0m\u001b[0;34m]\u001b[0m\u001b[0;34m,\u001b[0m \u001b[0maxes\u001b[0m\u001b[0;34m,\u001b[0m \u001b[0me\u001b[0m\u001b[0;34m)\u001b[0m\u001b[0;34m\u001b[0m\u001b[0;34m\u001b[0m\u001b[0m\n\u001b[0m\u001b[1;32m   1688\u001b[0m \u001b[0;34m\u001b[0m\u001b[0m\n\u001b[1;32m   1689\u001b[0m \u001b[0;34m\u001b[0m\u001b[0m\n",
      "\u001b[0;31mValueError\u001b[0m: Shape of passed values is (20, 20), indices imply (20, 1)"
     ]
    }
   ],
   "source": [
    "coeff_df = pd.DataFrame(model_lin_reg.coef_,fetures,columns=['Coefficient'])\n",
    "coeff_df\n"
   ]
  },
  {
   "cell_type": "code",
   "execution_count": 51,
   "id": "76bf0935-e723-4acc-9217-7fb138a84746",
   "metadata": {
    "collapsed": true,
    "jupyter": {
     "outputs_hidden": true,
     "source_hidden": true
    },
    "tags": []
   },
   "outputs": [
    {
     "ename": "ValueError",
     "evalue": "X has 406 features, but LinearRegression is expecting 27 features as input",
     "output_type": "error",
     "traceback": [
      "\u001b[0;31m---------------------------------------------------------------------------\u001b[0m",
      "\u001b[0;31mValueError\u001b[0m                                Traceback (most recent call last)",
      "\u001b[0;32m<ipython-input-51-3e7c0cd596af>\u001b[0m in \u001b[0;36m<module>\u001b[0;34m\u001b[0m\n\u001b[0;32m----> 1\u001b[0;31m \u001b[0mpredictions\u001b[0m \u001b[0;34m=\u001b[0m \u001b[0mmodel_lin_reg\u001b[0m\u001b[0;34m.\u001b[0m\u001b[0mpredict\u001b[0m\u001b[0;34m(\u001b[0m\u001b[0mX_test_poli\u001b[0m\u001b[0;34m)\u001b[0m\u001b[0;34m\u001b[0m\u001b[0;34m\u001b[0m\u001b[0m\n\u001b[0m\u001b[1;32m      2\u001b[0m \u001b[0;34m\u001b[0m\u001b[0m\n\u001b[1;32m      3\u001b[0m \u001b[0mplt\u001b[0m\u001b[0;34m.\u001b[0m\u001b[0mscatter\u001b[0m\u001b[0;34m(\u001b[0m\u001b[0my_test\u001b[0m\u001b[0;34m,\u001b[0m\u001b[0mpredictions\u001b[0m\u001b[0;34m)\u001b[0m\u001b[0;34m\u001b[0m\u001b[0;34m\u001b[0m\u001b[0m\n",
      "\u001b[0;32m~/opt/anaconda3/lib/python3.8/site-packages/daal4py/sklearn/_device_offload.py\u001b[0m in \u001b[0;36mwrapper_with_self\u001b[0;34m(self, *args, **kwargs)\u001b[0m\n\u001b[1;32m     86\u001b[0m         \u001b[0;34m@\u001b[0m\u001b[0mwraps\u001b[0m\u001b[0;34m(\u001b[0m\u001b[0mfunc\u001b[0m\u001b[0;34m)\u001b[0m\u001b[0;34m\u001b[0m\u001b[0;34m\u001b[0m\u001b[0m\n\u001b[1;32m     87\u001b[0m         \u001b[0;32mdef\u001b[0m \u001b[0mwrapper_with_self\u001b[0m\u001b[0;34m(\u001b[0m\u001b[0mself\u001b[0m\u001b[0;34m,\u001b[0m \u001b[0;34m*\u001b[0m\u001b[0margs\u001b[0m\u001b[0;34m,\u001b[0m \u001b[0;34m**\u001b[0m\u001b[0mkwargs\u001b[0m\u001b[0;34m)\u001b[0m\u001b[0;34m:\u001b[0m\u001b[0;34m\u001b[0m\u001b[0;34m\u001b[0m\u001b[0m\n\u001b[0;32m---> 88\u001b[0;31m             \u001b[0;32mreturn\u001b[0m \u001b[0mwrapper_impl\u001b[0m\u001b[0;34m(\u001b[0m\u001b[0mself\u001b[0m\u001b[0;34m,\u001b[0m \u001b[0;34m*\u001b[0m\u001b[0margs\u001b[0m\u001b[0;34m,\u001b[0m \u001b[0;34m**\u001b[0m\u001b[0mkwargs\u001b[0m\u001b[0;34m)\u001b[0m\u001b[0;34m\u001b[0m\u001b[0;34m\u001b[0m\u001b[0m\n\u001b[0m\u001b[1;32m     89\u001b[0m         \u001b[0;32mreturn\u001b[0m \u001b[0mwrapper_with_self\u001b[0m\u001b[0;34m\u001b[0m\u001b[0;34m\u001b[0m\u001b[0m\n\u001b[1;32m     90\u001b[0m     \u001b[0;32mreturn\u001b[0m \u001b[0mdecorator\u001b[0m\u001b[0;34m\u001b[0m\u001b[0;34m\u001b[0m\u001b[0m\n",
      "\u001b[0;32m~/opt/anaconda3/lib/python3.8/site-packages/daal4py/sklearn/_device_offload.py\u001b[0m in \u001b[0;36mwrapper_impl\u001b[0;34m(obj, *args, **kwargs)\u001b[0m\n\u001b[1;32m     72\u001b[0m                 \u001b[0musm_iface\u001b[0m \u001b[0;34m=\u001b[0m \u001b[0m_extract_usm_iface\u001b[0m\u001b[0;34m(\u001b[0m\u001b[0;34m*\u001b[0m\u001b[0margs\u001b[0m\u001b[0;34m,\u001b[0m \u001b[0;34m**\u001b[0m\u001b[0mkwargs\u001b[0m\u001b[0;34m)\u001b[0m\u001b[0;34m\u001b[0m\u001b[0;34m\u001b[0m\u001b[0m\n\u001b[1;32m     73\u001b[0m                 \u001b[0mq\u001b[0m\u001b[0;34m,\u001b[0m \u001b[0mhostargs\u001b[0m\u001b[0;34m,\u001b[0m \u001b[0mhostkwargs\u001b[0m \u001b[0;34m=\u001b[0m \u001b[0m_get_host_inputs\u001b[0m\u001b[0;34m(\u001b[0m\u001b[0;34m*\u001b[0m\u001b[0margs\u001b[0m\u001b[0;34m,\u001b[0m \u001b[0;34m**\u001b[0m\u001b[0mkwargs\u001b[0m\u001b[0;34m)\u001b[0m\u001b[0;34m\u001b[0m\u001b[0;34m\u001b[0m\u001b[0m\n\u001b[0;32m---> 74\u001b[0;31m                 \u001b[0mresult\u001b[0m \u001b[0;34m=\u001b[0m \u001b[0m_run_on_device\u001b[0m\u001b[0;34m(\u001b[0m\u001b[0mfunc\u001b[0m\u001b[0;34m,\u001b[0m \u001b[0mq\u001b[0m\u001b[0;34m,\u001b[0m \u001b[0mobj\u001b[0m\u001b[0;34m,\u001b[0m \u001b[0;34m*\u001b[0m\u001b[0mhostargs\u001b[0m\u001b[0;34m,\u001b[0m \u001b[0;34m**\u001b[0m\u001b[0mhostkwargs\u001b[0m\u001b[0;34m)\u001b[0m\u001b[0;34m\u001b[0m\u001b[0;34m\u001b[0m\u001b[0m\n\u001b[0m\u001b[1;32m     75\u001b[0m                 \u001b[0;32mif\u001b[0m \u001b[0musm_iface\u001b[0m \u001b[0;32mis\u001b[0m \u001b[0;32mnot\u001b[0m \u001b[0;32mNone\u001b[0m \u001b[0;32mand\u001b[0m \u001b[0mhasattr\u001b[0m\u001b[0;34m(\u001b[0m\u001b[0mresult\u001b[0m\u001b[0;34m,\u001b[0m \u001b[0;34m'__array_interface__'\u001b[0m\u001b[0;34m)\u001b[0m\u001b[0;34m:\u001b[0m\u001b[0;34m\u001b[0m\u001b[0;34m\u001b[0m\u001b[0m\n\u001b[1;32m     76\u001b[0m                     \u001b[0;32mreturn\u001b[0m \u001b[0m_copy_to_usm\u001b[0m\u001b[0;34m(\u001b[0m\u001b[0mq\u001b[0m\u001b[0;34m,\u001b[0m \u001b[0mresult\u001b[0m\u001b[0;34m)\u001b[0m\u001b[0;34m\u001b[0m\u001b[0;34m\u001b[0m\u001b[0m\n",
      "\u001b[0;32m~/opt/anaconda3/lib/python3.8/site-packages/daal4py/sklearn/_device_offload.py\u001b[0m in \u001b[0;36m_run_on_device\u001b[0;34m(func, queue, obj, *args, **kwargs)\u001b[0m\n\u001b[1;32m     63\u001b[0m                               host_offload_on_fail=host_offload):\n\u001b[1;32m     64\u001b[0m                 \u001b[0;32mreturn\u001b[0m \u001b[0mdispatch_by_obj\u001b[0m\u001b[0;34m(\u001b[0m\u001b[0mobj\u001b[0m\u001b[0;34m,\u001b[0m \u001b[0mfunc\u001b[0m\u001b[0;34m,\u001b[0m \u001b[0;34m*\u001b[0m\u001b[0margs\u001b[0m\u001b[0;34m,\u001b[0m \u001b[0;34m**\u001b[0m\u001b[0mkwargs\u001b[0m\u001b[0;34m)\u001b[0m\u001b[0;34m\u001b[0m\u001b[0;34m\u001b[0m\u001b[0m\n\u001b[0;32m---> 65\u001b[0;31m     \u001b[0;32mreturn\u001b[0m \u001b[0mdispatch_by_obj\u001b[0m\u001b[0;34m(\u001b[0m\u001b[0mobj\u001b[0m\u001b[0;34m,\u001b[0m \u001b[0mfunc\u001b[0m\u001b[0;34m,\u001b[0m \u001b[0;34m*\u001b[0m\u001b[0margs\u001b[0m\u001b[0;34m,\u001b[0m \u001b[0;34m**\u001b[0m\u001b[0mkwargs\u001b[0m\u001b[0;34m)\u001b[0m\u001b[0;34m\u001b[0m\u001b[0;34m\u001b[0m\u001b[0m\n\u001b[0m\u001b[1;32m     66\u001b[0m \u001b[0;34m\u001b[0m\u001b[0m\n\u001b[1;32m     67\u001b[0m \u001b[0;34m\u001b[0m\u001b[0m\n",
      "\u001b[0;32m~/opt/anaconda3/lib/python3.8/site-packages/daal4py/sklearn/_device_offload.py\u001b[0m in \u001b[0;36mdispatch_by_obj\u001b[0;34m(obj, func, *args, **kwargs)\u001b[0m\n\u001b[1;32m     51\u001b[0m     \u001b[0;32mdef\u001b[0m \u001b[0mdispatch_by_obj\u001b[0m\u001b[0;34m(\u001b[0m\u001b[0mobj\u001b[0m\u001b[0;34m,\u001b[0m \u001b[0mfunc\u001b[0m\u001b[0;34m,\u001b[0m \u001b[0;34m*\u001b[0m\u001b[0margs\u001b[0m\u001b[0;34m,\u001b[0m \u001b[0;34m**\u001b[0m\u001b[0mkwargs\u001b[0m\u001b[0;34m)\u001b[0m\u001b[0;34m:\u001b[0m\u001b[0;34m\u001b[0m\u001b[0;34m\u001b[0m\u001b[0m\n\u001b[1;32m     52\u001b[0m         \u001b[0;32mif\u001b[0m \u001b[0mobj\u001b[0m \u001b[0;32mis\u001b[0m \u001b[0;32mnot\u001b[0m \u001b[0;32mNone\u001b[0m\u001b[0;34m:\u001b[0m\u001b[0;34m\u001b[0m\u001b[0;34m\u001b[0m\u001b[0m\n\u001b[0;32m---> 53\u001b[0;31m             \u001b[0;32mreturn\u001b[0m \u001b[0mfunc\u001b[0m\u001b[0;34m(\u001b[0m\u001b[0mobj\u001b[0m\u001b[0;34m,\u001b[0m \u001b[0;34m*\u001b[0m\u001b[0margs\u001b[0m\u001b[0;34m,\u001b[0m \u001b[0;34m**\u001b[0m\u001b[0mkwargs\u001b[0m\u001b[0;34m)\u001b[0m\u001b[0;34m\u001b[0m\u001b[0;34m\u001b[0m\u001b[0m\n\u001b[0m\u001b[1;32m     54\u001b[0m         \u001b[0;32mreturn\u001b[0m \u001b[0mfunc\u001b[0m\u001b[0;34m(\u001b[0m\u001b[0;34m*\u001b[0m\u001b[0margs\u001b[0m\u001b[0;34m,\u001b[0m \u001b[0;34m**\u001b[0m\u001b[0mkwargs\u001b[0m\u001b[0;34m)\u001b[0m\u001b[0;34m\u001b[0m\u001b[0;34m\u001b[0m\u001b[0m\n\u001b[1;32m     55\u001b[0m \u001b[0;34m\u001b[0m\u001b[0m\n",
      "\u001b[0;32m~/opt/anaconda3/lib/python3.8/site-packages/daal4py/sklearn/linear_model/_linear.py\u001b[0m in \u001b[0;36mpredict\u001b[0;34m(self, X)\u001b[0m\n\u001b[1;32m    324\u001b[0m             \u001b[0mReturns\u001b[0m \u001b[0mpredicted\u001b[0m \u001b[0mvalues\u001b[0m\u001b[0;34m.\u001b[0m\u001b[0;34m\u001b[0m\u001b[0;34m\u001b[0m\u001b[0m\n\u001b[1;32m    325\u001b[0m         \"\"\"\n\u001b[0;32m--> 326\u001b[0;31m         \u001b[0;32mreturn\u001b[0m \u001b[0m_predict_linear\u001b[0m\u001b[0;34m(\u001b[0m\u001b[0mself\u001b[0m\u001b[0;34m,\u001b[0m \u001b[0mX\u001b[0m\u001b[0;34m)\u001b[0m\u001b[0;34m\u001b[0m\u001b[0;34m\u001b[0m\u001b[0m\n\u001b[0m",
      "\u001b[0;32m~/opt/anaconda3/lib/python3.8/site-packages/daal4py/sklearn/linear_model/_linear.py\u001b[0m in \u001b[0;36m_predict_linear\u001b[0;34m(self, X)\u001b[0m\n\u001b[1;32m    228\u001b[0m         \u001b[0;32mreturn\u001b[0m \u001b[0mself\u001b[0m\u001b[0;34m.\u001b[0m\u001b[0m_decision_function\u001b[0m\u001b[0;34m(\u001b[0m\u001b[0mX\u001b[0m\u001b[0;34m)\u001b[0m\u001b[0;34m\u001b[0m\u001b[0;34m\u001b[0m\u001b[0m\n\u001b[1;32m    229\u001b[0m     \u001b[0mX\u001b[0m \u001b[0;34m=\u001b[0m \u001b[0m_daal_check_array\u001b[0m\u001b[0;34m(\u001b[0m\u001b[0mX\u001b[0m\u001b[0;34m)\u001b[0m\u001b[0;34m\u001b[0m\u001b[0;34m\u001b[0m\u001b[0m\n\u001b[0;32m--> 230\u001b[0;31m     \u001b[0;32mreturn\u001b[0m \u001b[0m_daal4py_predict\u001b[0m\u001b[0;34m(\u001b[0m\u001b[0mself\u001b[0m\u001b[0;34m,\u001b[0m \u001b[0mX\u001b[0m\u001b[0;34m)\u001b[0m\u001b[0;34m\u001b[0m\u001b[0;34m\u001b[0m\u001b[0m\n\u001b[0m\u001b[1;32m    231\u001b[0m \u001b[0;34m\u001b[0m\u001b[0m\n\u001b[1;32m    232\u001b[0m \u001b[0;34m\u001b[0m\u001b[0m\n",
      "\u001b[0;32m~/opt/anaconda3/lib/python3.8/site-packages/daal4py/sklearn/linear_model/_linear.py\u001b[0m in \u001b[0;36m_daal4py_predict\u001b[0;34m(self, X)\u001b[0m\n\u001b[1;32m     94\u001b[0m     \u001b[0;32mif\u001b[0m \u001b[0msklearn_check_version\u001b[0m\u001b[0;34m(\u001b[0m\u001b[0;34m'0.23'\u001b[0m\u001b[0;34m)\u001b[0m\u001b[0;34m:\u001b[0m\u001b[0;34m\u001b[0m\u001b[0;34m\u001b[0m\u001b[0m\n\u001b[1;32m     95\u001b[0m         \u001b[0;32mif\u001b[0m \u001b[0mX\u001b[0m\u001b[0;34m.\u001b[0m\u001b[0mshape\u001b[0m\u001b[0;34m[\u001b[0m\u001b[0;36m1\u001b[0m\u001b[0;34m]\u001b[0m \u001b[0;34m!=\u001b[0m \u001b[0mself\u001b[0m\u001b[0;34m.\u001b[0m\u001b[0mn_features_in_\u001b[0m\u001b[0;34m:\u001b[0m\u001b[0;34m\u001b[0m\u001b[0;34m\u001b[0m\u001b[0m\n\u001b[0;32m---> 96\u001b[0;31m             raise ValueError(\n\u001b[0m\u001b[1;32m     97\u001b[0m                 \u001b[0;34mf'X has {X.shape[1]} features, '\u001b[0m\u001b[0;34m\u001b[0m\u001b[0;34m\u001b[0m\u001b[0m\n\u001b[1;32m     98\u001b[0m                 \u001b[0;34mf'but LinearRegression is expecting '\u001b[0m\u001b[0;34m\u001b[0m\u001b[0;34m\u001b[0m\u001b[0m\n",
      "\u001b[0;31mValueError\u001b[0m: X has 406 features, but LinearRegression is expecting 27 features as input"
     ]
    }
   ],
   "source": [
    "predictions = model_lin_reg.predict(X_test_poli)\n",
    "\n",
    "plt.scatter(y_test,predictions)\n"
   ]
  },
  {
   "cell_type": "code",
   "execution_count": 99,
   "id": "8b4c91ad-c976-4512-be46-9d83fba715db",
   "metadata": {
    "tags": []
   },
   "outputs": [
    {
     "name": "stdout",
     "output_type": "stream",
     "text": [
      "MAE: 19.801831831856592\n",
      "MSE: 781.7110314854434\n",
      "RMSE: 27.959095684328624\n"
     ]
    },
    {
     "data": {
      "text/plain": [
       "0.3551588791033582"
      ]
     },
     "execution_count": 99,
     "metadata": {},
     "output_type": "execute_result"
    }
   ],
   "source": [
    "from sklearn import metrics\n",
    "print('MAE:', metrics.mean_absolute_error(y_test, predictions))\n",
    "print('MSE:', metrics.mean_squared_error(y_test, predictions))\n",
    "print('RMSE:', np.sqrt(metrics.mean_squared_error(y_test, predictions)))\n",
    "metrics.explained_variance_score(y_test, predictions)"
   ]
  },
  {
   "cell_type": "markdown",
   "id": "65b9742f-8940-4d5b-b927-f83ec4f43bc6",
   "metadata": {
    "jupyter": {
     "outputs_hidden": true
    },
    "tags": []
   },
   "source": [
    "# ElasticNet"
   ]
  },
  {
   "cell_type": "code",
   "execution_count": 101,
   "id": "0ba264f1-2ac0-4d5d-9a03-4cba164936cd",
   "metadata": {},
   "outputs": [
    {
     "data": {
      "text/plain": [
       "ElasticNet(alpha=0.001, l1_ratio=0.1)"
      ]
     },
     "execution_count": 101,
     "metadata": {},
     "output_type": "execute_result"
    }
   ],
   "source": [
    "from sklearn.linear_model import ElasticNet\n",
    "# define model\n",
    "model = ElasticNet(alpha=0.001, l1_ratio=0.1)\n",
    "# fit model\n",
    "model.fit(x_train,y_train)"
   ]
  },
  {
   "cell_type": "code",
   "execution_count": 102,
   "id": "74d27b57-8a64-4002-9e78-7abe8d3ff3cb",
   "metadata": {},
   "outputs": [
    {
     "name": "stdout",
     "output_type": "stream",
     "text": [
      "-395.268672041878\n"
     ]
    }
   ],
   "source": [
    "print(model.intercept_)"
   ]
  },
  {
   "cell_type": "code",
   "execution_count": 103,
   "id": "24d5bbe1-0528-4363-af4f-722b3c844844",
   "metadata": {},
   "outputs": [
    {
     "name": "stdout",
     "output_type": "stream",
     "text": [
      "MAE: 19.81471954478773\n",
      "MSE: 781.667036881926\n",
      "RMSE: 27.95830890597509\n"
     ]
    },
    {
     "data": {
      "text/plain": [
       "0.3551951458728453"
      ]
     },
     "execution_count": 103,
     "metadata": {},
     "output_type": "execute_result"
    },
    {
     "data": {
      "image/png": "[encoded data removed]",
      "text/plain": [
       "<Figure size 432x288 with 1 Axes>"
      ]
     },
     "metadata": {
      "needs_background": "light"
     },
     "output_type": "display_data"
    }
   ],
   "source": [
    "coeff_df = pd.DataFrame(model.coef_,fetures,columns=['Coefficient'])\n",
    "coeff_df\n",
    "predictions = model.predict(x_test)\n",
    "plt.scatter(y_test,predictions)\n",
    "from sklearn import metrics\n",
    "print('MAE:', metrics.mean_absolute_error(y_test, predictions))\n",
    "print('MSE:', metrics.mean_squared_error(y_test, predictions))\n",
    "print('RMSE:', np.sqrt(metrics.mean_squared_error(y_test, predictions)))\n",
    "metrics.explained_variance_score(y_test, predictions)"
   ]
  },
  {
   "cell_type": "code",
   "execution_count": 104,
   "id": "e735298e-84f9-451e-b7ff-06d625a15dd1",
   "metadata": {},
   "outputs": [
    {
     "data": {
      "text/html": [
       "<div>\n",
       "<style scoped>\n",
       "    .dataframe tbody tr th:only-of-type {\n",
       "        vertical-align: middle;\n",
       "    }\n",
       "\n",
       "    .dataframe tbody tr th {\n",
       "        vertical-align: top;\n",
       "    }\n",
       "\n",
       "    .dataframe thead th {\n",
       "        text-align: right;\n",
       "    }\n",
       "</style>\n",
       "<table border=\"1\" class=\"dataframe\">\n",
       "  <thead>\n",
       "    <tr style=\"text-align: right;\">\n",
       "      <th></th>\n",
       "      <th>Coefficient</th>\n",
       "    </tr>\n",
       "  </thead>\n",
       "  <tbody>\n",
       "    <tr>\n",
       "      <th>hour</th>\n",
       "      <td>-0.048029</td>\n",
       "    </tr>\n",
       "    <tr>\n",
       "      <th>lat</th>\n",
       "      <td>9.535419</td>\n",
       "    </tr>\n",
       "    <tr>\n",
       "      <th>long</th>\n",
       "      <td>-1.367897</td>\n",
       "    </tr>\n",
       "    <tr>\n",
       "      <th>signal</th>\n",
       "      <td>-0.043560</td>\n",
       "    </tr>\n",
       "    <tr>\n",
       "      <th>status</th>\n",
       "      <td>3.307676</td>\n",
       "    </tr>\n",
       "    <tr>\n",
       "      <th>net_2G</th>\n",
       "      <td>3.812435</td>\n",
       "    </tr>\n",
       "    <tr>\n",
       "      <th>net_3G</th>\n",
       "      <td>0.479778</td>\n",
       "    </tr>\n",
       "    <tr>\n",
       "      <th>net_4G</th>\n",
       "      <td>-3.100629</td>\n",
       "    </tr>\n",
       "    <tr>\n",
       "      <th>satellites</th>\n",
       "      <td>0.966827</td>\n",
       "    </tr>\n",
       "    <tr>\n",
       "      <th>precission</th>\n",
       "      <td>-0.027001</td>\n",
       "    </tr>\n",
       "    <tr>\n",
       "      <th>month</th>\n",
       "      <td>0.006467</td>\n",
       "    </tr>\n",
       "    <tr>\n",
       "      <th>activity_IN_VEHICLE</th>\n",
       "      <td>35.868045</td>\n",
       "    </tr>\n",
       "    <tr>\n",
       "      <th>activity_ON_BICYCLE</th>\n",
       "      <td>5.616750</td>\n",
       "    </tr>\n",
       "    <tr>\n",
       "      <th>activity_ON_FOOT</th>\n",
       "      <td>-3.843701</td>\n",
       "    </tr>\n",
       "    <tr>\n",
       "      <th>activity_STILL</th>\n",
       "      <td>1.109270</td>\n",
       "    </tr>\n",
       "    <tr>\n",
       "      <th>activity_TILTING</th>\n",
       "      <td>1.913363</td>\n",
       "    </tr>\n",
       "    <tr>\n",
       "      <th>region_code_Barcelona</th>\n",
       "      <td>2.125069</td>\n",
       "    </tr>\n",
       "    <tr>\n",
       "      <th>region_code_Girona</th>\n",
       "      <td>-1.639779</td>\n",
       "    </tr>\n",
       "    <tr>\n",
       "      <th>region_code_Lleida</th>\n",
       "      <td>-6.932491</td>\n",
       "    </tr>\n",
       "    <tr>\n",
       "      <th>region_code_Tarragona</th>\n",
       "      <td>6.538991</td>\n",
       "    </tr>\n",
       "  </tbody>\n",
       "</table>\n",
       "</div>"
      ],
      "text/plain": [
       "                       Coefficient\n",
       "hour                     -0.048029\n",
       "lat                       9.535419\n",
       "long                     -1.367897\n",
       "signal                   -0.043560\n",
       "status                    3.307676\n",
       "net_2G                    3.812435\n",
       "net_3G                    0.479778\n",
       "net_4G                   -3.100629\n",
       "satellites                0.966827\n",
       "precission               -0.027001\n",
       "month                     0.006467\n",
       "activity_IN_VEHICLE      35.868045\n",
       "activity_ON_BICYCLE       5.616750\n",
       "activity_ON_FOOT         -3.843701\n",
       "activity_STILL            1.109270\n",
       "activity_TILTING          1.913363\n",
       "region_code_Barcelona     2.125069\n",
       "region_code_Girona       -1.639779\n",
       "region_code_Lleida       -6.932491\n",
       "region_code_Tarragona     6.538991"
      ]
     },
     "execution_count": 104,
     "metadata": {},
     "output_type": "execute_result"
    }
   ],
   "source": [
    "coeff_df = pd.DataFrame(model.coef_,fetures,columns=['Coefficient'])\n",
    "coeff_df\n"
   ]
  },
  {
   "cell_type": "code",
   "execution_count": 105,
   "id": "808b8089-da2c-4ffc-9b40-720ab26d2b9f",
   "metadata": {},
   "outputs": [
    {
     "name": "stdout",
     "output_type": "stream",
     "text": [
      "MAE: 19.81471954478773\n",
      "MSE: 781.667036881926\n",
      "RMSE: 27.95830890597509\n"
     ]
    },
    {
     "data": {
      "text/plain": [
       "0.3551951458728453"
      ]
     },
     "execution_count": 105,
     "metadata": {},
     "output_type": "execute_result"
    }
   ],
   "source": [
    "print('MAE:', metrics.mean_absolute_error(y_test, predictions))\n",
    "print('MSE:', metrics.mean_squared_error(y_test, predictions))\n",
    "print('RMSE:', np.sqrt(metrics.mean_squared_error(y_test, predictions)))\n",
    "metrics.explained_variance_score(y_test, predictions)"
   ]
  },
  {
   "cell_type": "markdown",
   "id": "6f644edb-1e0e-4221-af01-541be5c98d28",
   "metadata": {},
   "source": [
    "# comparing our models \n",
    "## Ridge\n",
    "### MAE: 19.81471954478773\n",
    "### MSE: 781.667036881926\n",
    "### RMSE: 27.95830890597509\n",
    "### R^2: 0.3551951458728453\n",
    "\n",
    "## lasso\n",
    "### MAE: 19.801831831856592\n",
    "### MSE: 781.7110314854434\n",
    "### RMSE: 27.959095684328624\n",
    "### R^2: 0.3551588791033582\n",
    "### added a note to linear regression adding polynomial value of 2 does not make the model more accurate and 3 is not sensible but this size of a data set \n",
    "\n",
    "## linear\n",
    "### MAE: 19.801831831856592\n",
    "### MSE: 781.7110314854434\n",
    "### RMSE: 27.959095684328624\n",
    "### R^2: 0.3551588791033582\n",
    "\n",
    "\n",
    "## ElasticNet\n",
    "### MAE: 19.80929976057418\n",
    "### MSE: 781.5990971455595\n",
    "### RMSE: 27.957093860871154\n",
    "### R^2 0.3552512874304192\n",
    "\n",
    "### we can see that our models performed similarly but Ridge has a slightly better R^2 value which means the model is slightly more accurate\n",
    "### MAE gives us the error's value from the true values of the model but is sensitive to outliers and extreme values \n",
    "### a better parameter would be to use RMSE which is the square of mse it is less sensitive to large outliers in the data \n",
    "\n",
    "\n",
    "# FINDINGS \n",
    "\n",
    "### we can see that the future of being in a car has the greatest impact on speed \n",
    "### as we thought the time value has a negative impact on speed as saw, so as we go later in the day the speed becomes lower.\n",
    "### it is surprising precision has a negative impact on speed; you would think that as precision would be greater so does the speed same goes for signal \n",
    "### the least impact feature is the month.\n",
    "### as for the recommendations from the last question I would say the regions that need the most attention are  Girona and  Lleida, which is surprising because from the analysis we did ###  they  are the regions with the best speed (median), it seems that 4g NETWORK HAS A NEGATIVE\n",
    "### impact in speed, might be because of not enough antennas for this network, so I would keep \n",
    "### the  recommendation of expanding this network and making it more robust \n",
    "\n",
    "# mising features \n",
    "\n",
    "### *I would definitely add the population size of each town \n",
    "### *number of cell antennas in each town \n",
    "### *the response time to each measurement which might be an added value for speed calculation \n",
    "### *a more in dept regional division of the data \n",
    "### *network load at the time of the measurement"
   ]
  },
  {
   "cell_type": "markdown",
   "id": "a57a6c7b-7c9c-433d-89d7-b9ac11502c90",
   "metadata": {},
   "source": [
    "#  predicts the network status\n",
    "### SVM works relatively well when there is a clear margin of separation between classes\n",
    "### SVM is relatively memory efficient\n",
    "### as we can see our accuracy to the model is good \n",
    "### note: we would have to adjust the algorithm or the feature amount if the data set would be any bigger "
   ]
  },
  {
   "cell_type": "code",
   "execution_count": 106,
   "id": "2b626dfc-4712-4360-8ea7-b33f3a49366c",
   "metadata": {},
   "outputs": [],
   "source": [
    "conditions = [\n",
    "    (filtered_df['status'] == 0),\n",
    "    (filtered_df['status'] == 1),\n",
    "    (filtered_df['status'] == 2),\n",
    "    (filtered_df['status'] == 3) \n",
    "]\n",
    "\n",
    "values = ['STATE_IN_SERVICE','STATE_OUT_OF_SERVICE','STATE_EMERGENCY_ONLY','STATE_POWER_OFF']\n",
    "\n",
    "filtered_df['status_des'] = np.select(conditions, values)"
   ]
  },
  {
   "cell_type": "code",
   "execution_count": 107,
   "id": "054e441c-0bda-49a6-8d63-e1ca9552b43b",
   "metadata": {
    "collapsed": true,
    "jupyter": {
     "outputs_hidden": true
    },
    "tags": []
   },
   "outputs": [
    {
     "data": {
      "text/plain": [
       "Index(['hour', 'lat', 'long', 'signal', 'network', 'status', 'speed',\n",
       "       'satellites', 'precission', 'time', 'month', 'day', 'net_2G', 'net_3G',\n",
       "       'net_4G', 'provider_fused', 'provider_gps', 'provider_network',\n",
       "       'activity_IN_VEHICLE', 'activity_ON_BICYCLE', 'activity_ON_FOOT',\n",
       "       'activity_STILL', 'activity_TILTING', 'activity_UNKNOWN',\n",
       "       'region_code_Barcelona', 'region_code_Girona', 'region_code_Lleida',\n",
       "       'region_code_Tarragona', 'status_des'],\n",
       "      dtype='object')"
      ]
     },
     "execution_count": 107,
     "metadata": {},
     "output_type": "execute_result"
    }
   ],
   "source": [
    "filtered_df.columns"
   ]
  },
  {
   "cell_type": "code",
   "execution_count": 108,
   "id": "c19dd342-019f-4562-a8ff-3e2bb202150a",
   "metadata": {},
   "outputs": [],
   "source": [
    "fetures=[ 'hour', 'lat', 'long', 'signal',\n",
    "       'satellites', 'precission', 'month', 'net_2G', 'net_3G','net_4G', 'provider_network',\n",
    "       'provider_fused', 'provider_gps', 'activity_IN_VEHICLE',\n",
    "       'activity_ON_BICYCLE', 'activity_ON_FOOT', 'activity_STILL',\n",
    "       'activity_TILTING', 'activity_UNKNOWN', 'region_code_Barcelona',\n",
    "       'region_code_Girona', 'region_code_Lleida', 'region_code_Tarragona']\n",
    "target=['status_des']\n",
    "\n",
    "df_train, df_test = train_test_split(filtered_df, test_size=0.2)\n",
    "df_train=df_train[fetures+target]\n",
    "df_test=df_test[fetures+target]\n",
    "X_train = df_train[fetures].to_numpy()\n",
    "X_test = df_test[fetures].to_numpy()\n",
    "X_test.shape, X_train.shape\n",
    "\n",
    "y_train = df_train['status_des']\n",
    "y_test = df_test['status_des']\n"
   ]
  },
  {
   "cell_type": "code",
   "execution_count": 111,
   "id": "48cbd4e1-702e-4e1c-9901-9a672d316372",
   "metadata": {},
   "outputs": [],
   "source": [
    "from sklearn.svm import SVC\n",
    "svm_model_linear = SVC(kernel = 'linear', C = 1).fit(X_train, y_train)\n"
   ]
  },
  {
   "cell_type": "code",
   "execution_count": 112,
   "id": "c48e55ab-952f-4dd3-bf09-7264aa644255",
   "metadata": {},
   "outputs": [
    {
     "name": "stdout",
     "output_type": "stream",
     "text": [
      "Accuracy: 0.9022920254141678\n"
     ]
    }
   ],
   "source": [
    "from sklearn import svm\n",
    "clf = svm.SVC(kernel='linear') \n",
    "clf.fit(X_train, y_train)\n",
    "y_pred = clf.predict(X_test)\n",
    "print(\"Accuracy:\",metrics.accuracy_score(y_test, y_pred))"
   ]
  }
 ],
 "metadata": {
  "kernelspec": {
   "display_name": "Python 3",
   "language": "python",
   "name": "python3"
  },
  "language_info": {
   "codemirror_mode": {
    "name": "ipython",
    "version": 3
   },
   "file_extension": ".py",
   "mimetype": "text/x-python",
   "name": "python",
   "nbconvert_exporter": "python",
   "pygments_lexer": "ipython3",
   "version": "3.8.8"
  }
 },
 "nbformat": 4,
 "nbformat_minor": 5
}
